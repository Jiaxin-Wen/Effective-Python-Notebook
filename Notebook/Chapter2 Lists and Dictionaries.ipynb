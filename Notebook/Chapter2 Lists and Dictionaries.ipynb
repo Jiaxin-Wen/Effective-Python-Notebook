{
 "cells": [
  {
   "cell_type": "markdown",
   "id": "copyrighted-major",
   "metadata": {},
   "source": [
    "## Lists and Dictionaries"
   ]
  },
  {
   "cell_type": "markdown",
   "id": "eleven-clock",
   "metadata": {},
   "source": [
    "### Slice\n",
    "\n",
    "\n",
    "- 实现了__getitem__和__setitem__方法的class的对象，都可以使用slice\n",
    "\n",
    "- slice允许越界的index访问\n",
    "\n",
    "- slice assignment没有长度相等的要求"
   ]
  },
  {
   "cell_type": "code",
   "execution_count": 1,
   "id": "hearing-barrier",
   "metadata": {},
   "outputs": [
    {
     "name": "stdout",
     "output_type": "stream",
     "text": [
      "['a', 2, 3, 4, 'c']\n"
     ]
    }
   ],
   "source": [
    "a = ['a', 'b', 'c']\n",
    "a[1:2] = [2, 3, 4] # length of slice assignments don't need to be the same\n",
    "print(a)"
   ]
  },
  {
   "cell_type": "markdown",
   "id": "cutting-chancellor",
   "metadata": {},
   "source": [
    "- stride和slice\n",
    "\n",
    "stride： somelist[start:end:stride]\n",
    "\n",
    "使用stride时不建议specify start和end, 可读性较差\n",
    "\n",
    "如有需要，用一步slice单独实现。"
   ]
  },
  {
   "cell_type": "code",
   "execution_count": 2,
   "id": "tested-grocery",
   "metadata": {},
   "outputs": [
    {
     "name": "stdout",
     "output_type": "stream",
     "text": [
      "[3, 2]\n"
     ]
    }
   ],
   "source": [
    "temp = a[1:3] # instead of a[1:3:-1]\n",
    "b = temp[::-1] # 用stride逆序的方法\n",
    "print(b)"
   ]
  },
  {
   "cell_type": "markdown",
   "id": "understood-prevention",
   "metadata": {},
   "source": [
    "- slice会发生shallow copy, 修改slicing的结果不会修改原list; \n",
    "\n",
    "  itertools的islice方法可以避免copy，用法与slice类似.\n",
    "  \n",
    "  islice(iterable, [start, ] stop [, step])\n",
    "  \n",
    "  只允许None或正数值。"
   ]
  },
  {
   "cell_type": "code",
   "execution_count": 3,
   "id": "expensive-territory",
   "metadata": {},
   "outputs": [
    {
     "name": "stdout",
     "output_type": "stream",
     "text": [
      "first five:  [0, 1, 2, 3, 4]\n",
      "odds:  [1, 3, 5, 7, 9]\n",
      "evens:  [0, 2, 4, 6, 8]\n"
     ]
    }
   ],
   "source": [
    "import itertools\n",
    "\n",
    "values = list(range(10))\n",
    "first_five = list(itertools.islice(values, 5))\n",
    "odds = list(itertools.islice(values, 1, None,2))\n",
    "evens = list(itertools.islice(values, None, None, 2))\n",
    "print('first five: ', first_five)\n",
    "print('odds: ', odds)\n",
    "print('evens: ', evens)"
   ]
  },
  {
   "cell_type": "markdown",
   "id": "received-demand",
   "metadata": {},
   "source": [
    "### Sort by Complex Criteria Using the `key` parameter\n",
    "\n",
    "借助sort的key参数，灵活的使用sort"
   ]
  },
  {
   "cell_type": "code",
   "execution_count": 4,
   "id": "known-ready",
   "metadata": {},
   "outputs": [
    {
     "name": "stdout",
     "output_type": "stream",
     "text": [
      "[Tool(screwdriver, 0.5), Tool(hammer, 1.25), Tool(chisel, 0.25)]\n"
     ]
    }
   ],
   "source": [
    "class Tool:\n",
    "    def __init__(self, name, weight):\n",
    "        self.name = name\n",
    "        self.weight = weight\n",
    "    \n",
    "    def __repr__(self):\n",
    "        return f'Tool({self.name}, {self.weight})'\n",
    "\n",
    "tools = [\n",
    "    Tool('hammer', 1.25), \n",
    "    Tool('screwdriver', 0.5),\n",
    "    Tool('chisel', 0.25)    \n",
    "]\n",
    "\n",
    "tools.sort(key=lambda x: (x.name, x.weight), reverse=True) # do transformations on the values\n",
    "'''\n",
    "tuple自带了比较机制, 从左至右，同一位置元素相同则继续，不同就得到比较结果。\n",
    "可以借助tuple实现multiple sorting criteria\n",
    "'''\n",
    "print(tools)"
   ]
  },
  {
   "cell_type": "markdown",
   "id": "anonymous-porcelain",
   "metadata": {},
   "source": [
    "### Be Cautious When Relying on `dict` Insertion Ordering\n",
    "\n",
    "python 3.5及之前的版本，dict的遍历顺序是随机的，与插入顺序无关。\n",
    "\n",
    "但3.7开始, \"dict will preserve insertion order\"\n",
    "\n",
    "这意味着`keys`, `values`, `items`, `popitem`都会保序.\n",
    "\n",
    "但派生collections.abs的MutableMapping得到的类，并不具有这个性质。\n",
    "\n",
    "如果要依赖dict的保序性，应该check变量类型"
   ]
  },
  {
   "cell_type": "code",
   "execution_count": 5,
   "id": "thorough-request",
   "metadata": {},
   "outputs": [
    {
     "name": "stdout",
     "output_type": "stream",
     "text": [
      "name = Bob\n",
      "age = 12\n"
     ]
    }
   ],
   "source": [
    "class Student:\n",
    "    def __init__(self, name, age):\n",
    "        self.name = name\n",
    "        self.age = age\n",
    "        \n",
    "a = Student('Bob', 12)\n",
    "for key, value in a.__dict__.items(): # 按照声明顺序\n",
    "    print(f'{key} = {value}')"
   ]
  },
  {
   "cell_type": "markdown",
   "id": "perfect-artist",
   "metadata": {},
   "source": [
    "### Prefer `get` Over `in` and `KeyError` to Handle Missing Dictionary Keys\n",
    "\n",
    "处理missing keys的方法有四种\n",
    "\n",
    "- 用in判断\n",
    "- catch KeyError\n",
    "- get(key, value)\n",
    "> value[optional]:\n",
    "A value to return if the specified key does not exist. Default value None\n",
    " \n",
    "  会先判断key, 再创建value. 当value的construct has a high cost的时候，推荐使用get\n",
    "\n",
    "- setdefault\n",
    "可以直接添加missing key到dict中。\n",
    "但这时可以使用`defaultdict`"
   ]
  },
  {
   "cell_type": "code",
   "execution_count": 7,
   "id": "whole-vietnamese",
   "metadata": {},
   "outputs": [
    {
     "name": "stdout",
     "output_type": "stream",
     "text": [
      "no\n"
     ]
    }
   ],
   "source": [
    "if temp := counters.get('c') is None:\n",
    "        temp = 'no'\n",
    "'''\n",
    "if 'c' in counters:\n",
    "    temp = counters['c']\n",
    "else:\n",
    "    temp = 'no'\n",
    "'''\n",
    "print(temp)\n"
   ]
  },
  {
   "cell_type": "code",
   "execution_count": 8,
   "id": "detected-apparel",
   "metadata": {},
   "outputs": [
    {
     "name": "stdout",
     "output_type": "stream",
     "text": [
      "{'c': ['value']}\n"
     ]
    }
   ],
   "source": [
    "'''\n",
    "也可以使用setdefault, 赋值的同时，在容器中初始化新的key.(直接引用value，不是拷贝)\n",
    "- 可读性较差\n",
    "- not efficient \n",
    "  default value(比如是一个set())每次都会构建，无论key是否在dict中.\n",
    "'''\n",
    "counters.setdefault('c', []).append(\"value\")\n",
    "print(counters)"
   ]
  },
  {
   "cell_type": "markdown",
   "id": "banner-negotiation",
   "metadata": {},
   "source": [
    "### Prefer `defaultdict` Over `setdefault` to Handle Missing Items in Internal State\n",
    "\n",
    "创建时给定一个返回默认值的function\n",
    "\n",
    "注意\n",
    "- defaultdict不再保序\n",
    "- defaultdict构造默认值的function不能处理有参的情况\n",
    " > The function passed to defaultdict must not require any arguments,which makes it impossible to have the default value depend on the key being accessed"
   ]
  },
  {
   "cell_type": "code",
   "execution_count": 12,
   "id": "failing-person",
   "metadata": {},
   "outputs": [
    {
     "name": "stdout",
     "output_type": "stream",
     "text": [
      "set()\n",
      "None\n"
     ]
    }
   ],
   "source": [
    "from collections import defaultdict\n",
    "\n",
    "a = defaultdict(set)\n",
    "b = defaultdict(lambda : \"None\") # 匿名lambda\n",
    "\n",
    "print(a[1])\n",
    "print(b[0])"
   ]
  },
  {
   "cell_type": "markdown",
   "id": "coral-header",
   "metadata": {},
   "source": [
    "### Know How to Construct Key-Dependent Default Values with __missing__\n",
    "\n",
    "defaultdict的默认值不能依赖于key, 或者说提供默认值的函数不能是有参的。\n",
    "\n",
    "为此可以重载`__missing__`方法"
   ]
  },
  {
   "cell_type": "code",
   "execution_count": 17,
   "id": "worse-huntington",
   "metadata": {},
   "outputs": [
    {
     "name": "stdout",
     "output_type": "stream",
     "text": [
      "value: pic1.jpg\n"
     ]
    }
   ],
   "source": [
    "class Pictures(dict):\n",
    "    def __missing__(self, key):\n",
    "        value = 'value: ' + key # key-dependent default value\n",
    "        self[key] = value # 增加missing key\n",
    "        return value\n",
    "    \n",
    "path = 'pic1.jpg'\n",
    "pictures = Pictures()\n",
    "value = pictures[path]\n",
    "print(value)"
   ]
  }
 ],
 "metadata": {
  "kernelspec": {
   "display_name": "Python 3",
   "language": "python",
   "name": "python3"
  },
  "language_info": {
   "codemirror_mode": {
    "name": "ipython",
    "version": 3
   },
   "file_extension": ".py",
   "mimetype": "text/x-python",
   "name": "python",
   "nbconvert_exporter": "python",
   "pygments_lexer": "ipython3",
   "version": "3.8.0"
  }
 },
 "nbformat": 4,
 "nbformat_minor": 5
}
