{
 "cells": [
  {
   "cell_type": "markdown",
   "id": "vital-plasma",
   "metadata": {},
   "source": [
    "## Lists and Dictionaries"
   ]
  },
  {
   "cell_type": "markdown",
   "id": "intellectual-merchandise",
   "metadata": {},
   "source": [
    "### Slice\n",
    "\n",
    "\n",
    "- 实现了__getitem__和__setitem__方法的class的对象，都可以使用slice\n",
    "\n",
    "- slice允许越界的index访问\n",
    "\n",
    "- slice assignment没有长度相等的要求"
   ]
  },
  {
   "cell_type": "code",
   "execution_count": 2,
   "id": "going-anniversary",
   "metadata": {},
   "outputs": [
    {
     "name": "stdout",
     "output_type": "stream",
     "text": [
      "['a', 2, 3, 4, 'c']\n"
     ]
    }
   ],
   "source": [
    "a = ['a', 'b', 'c']\n",
    "a[1:2] = [2, 3, 4] # length of slice assignments don't need to be the same\n",
    "print(a)"
   ]
  },
  {
   "cell_type": "markdown",
   "id": "acoustic-toyota",
   "metadata": {},
   "source": [
    "- stride和slice\n",
    "\n",
    "stride： somelist[start:end:stride]\n",
    "\n",
    "使用stride时不建议specify start和end, 可读性较差\n",
    "\n",
    "如有需要，用一步slice单独实现。"
   ]
  },
  {
   "cell_type": "code",
   "execution_count": 16,
   "id": "complete-wireless",
   "metadata": {},
   "outputs": [
    {
     "name": "stdout",
     "output_type": "stream",
     "text": [
      "[3, 2]\n"
     ]
    }
   ],
   "source": [
    "temp = a[1:3] # instead of a[1:3:-1]\n",
    "b = temp[::-1] # 用stride逆序的方法\n",
    "print(b)"
   ]
  },
  {
   "cell_type": "markdown",
   "id": "matched-bahrain",
   "metadata": {},
   "source": [
    "- slice会发生shallow copy, 修改slicing的结果不会修改原list; \n",
    "\n",
    "  itertools的islice方法可以避免copy，用法与slice类似.\n",
    "  \n",
    "  islice(iterable, [start, ] stop [, step])\n",
    "  \n",
    "  只允许None或正数值。"
   ]
  },
  {
   "cell_type": "code",
   "execution_count": 14,
   "id": "heated-steal",
   "metadata": {},
   "outputs": [
    {
     "name": "stdout",
     "output_type": "stream",
     "text": [
      "first five:  [0, 1, 2, 3, 4]\n",
      "odds:  [1, 3, 5, 7, 9]\n",
      "evens:  [0, 2, 4, 6, 8]\n"
     ]
    }
   ],
   "source": [
    "import itertools\n",
    "\n",
    "values = list(range(10))\n",
    "first_five = list(itertools.islice(values, 5))\n",
    "odds = list(itertools.islice(values, 1, None,2))\n",
    "evens = list(itertools.islice(values, None, None, 2))\n",
    "print('first five: ', first_five)\n",
    "print('odds: ', odds)\n",
    "print('evens: ', evens)"
   ]
  },
  {
   "cell_type": "markdown",
   "id": "incorrect-serbia",
   "metadata": {},
   "source": [
    "### Sort by Complex Criteria Using the `key` parameter\n",
    "\n",
    "借助sort的key参数，灵活的使用sort"
   ]
  },
  {
   "cell_type": "code",
   "execution_count": 17,
   "id": "statewide-consent",
   "metadata": {},
   "outputs": [
    {
     "name": "stdout",
     "output_type": "stream",
     "text": [
      "[Tool(screwdriver, 0.5), Tool(hammer, 1.25), Tool(chisel, 0.25)]\n"
     ]
    }
   ],
   "source": [
    "class Tool:\n",
    "    def __init__(self, name, weight):\n",
    "        self.name = name\n",
    "        self.weight = weight\n",
    "    \n",
    "    def __repr__(self):\n",
    "        return f'Tool({self.name}, {self.weight})'\n",
    "\n",
    "tools = [\n",
    "    Tool('hammer', 1.25), \n",
    "    Tool('screwdriver', 0.5),\n",
    "    Tool('chisel', 0.25)    \n",
    "]\n",
    "\n",
    "tools.sort(key=lambda x: (x.name, x.weight), reverse=True) # do transformations on the values\n",
    "'''\n",
    "tuple自带了比较机制, 从左至右，同一位置元素相同则继续，不同就得到比较结果。\n",
    "可以借助tuple实现multiple sorting criteria\n",
    "'''\n",
    "print(tools)"
   ]
  },
  {
   "cell_type": "markdown",
   "id": "ignored-genetics",
   "metadata": {},
   "source": [
    "### Be Cautious When Relying on `dict` Insertion Ordering\n",
    "\n",
    "python 3.5及之前的版本，dict的遍历顺序是随机的，与插入顺序无关。\n",
    "\n",
    "但3.6开始，officially 3.7, \"dict will preserve insertion order\"\n",
    "\n",
    "这意味着`keys`, `values`, `items`, `popitem`都会保序"
   ]
  },
  {
   "cell_type": "code",
   "execution_count": 19,
   "id": "original-offering",
   "metadata": {},
   "outputs": [
    {
     "name": "stdout",
     "output_type": "stream",
     "text": [
      "name = Bob\n",
      "age = 12\n"
     ]
    }
   ],
   "source": [
    "class Student:\n",
    "    def __init__(self, name, age):\n",
    "        self.name = name\n",
    "        self.age = age\n",
    "        \n",
    "a = Student('Bob', 12)\n",
    "for key, value in a.__dict__.items(): # 按照声明顺序\n",
    "    print(f'{key} = {value}')"
   ]
  }
 ],
 "metadata": {
  "kernelspec": {
   "display_name": "Python 3",
   "language": "python",
   "name": "python3"
  },
  "language_info": {
   "codemirror_mode": {
    "name": "ipython",
    "version": 3
   },
   "file_extension": ".py",
   "mimetype": "text/x-python",
   "name": "python",
   "nbconvert_exporter": "python",
   "pygments_lexer": "ipython3",
   "version": "3.8.0"
  }
 },
 "nbformat": 4,
 "nbformat_minor": 5
}
