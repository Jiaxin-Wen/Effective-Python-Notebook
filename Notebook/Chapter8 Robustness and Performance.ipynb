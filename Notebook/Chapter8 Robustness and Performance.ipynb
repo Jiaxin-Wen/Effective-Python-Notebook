{
 "cells": [
  {
   "cell_type": "markdown",
   "id": "dental-figure",
   "metadata": {},
   "source": [
    "## Robustness and Performance\n",
    "\n",
    "### Take Advantage of Each Block in `try/except/else/finally`\n",
    "\n",
    "#### (1) finally\n",
    "\n",
    "无论try是否有异常，都会进入的block。常常用于关闭file handle"
   ]
  },
  {
   "cell_type": "code",
   "execution_count": null,
   "id": "boolean-prerequisite",
   "metadata": {},
   "outputs": [],
   "source": [
    "def try_finally_example(filename):\n",
    "    print('* Opening file')\n",
    "    handle = open(filename, encoding='utf-8') # Maybe OSError\n",
    "    # open语句要写在外面，因为oserror后不执行close\n",
    "    try:\n",
    "        print('* Reading data')\n",
    "        return handle.read() # Maybe UnicodeDecodeError\n",
    "    finally:\n",
    "        print('* Calling close()')\n",
    "        handle.close() # Always runs after try block"
   ]
  },
  {
   "cell_type": "markdown",
   "id": "phantom-yeast",
   "metadata": {},
   "source": [
    "#### (2) else\n",
    "\n",
    "try/except/else/finally\n",
    "\n",
    "当try block没有raise exception的时候，就会进入else block执行。\n",
    "\n",
    "else block的作用是：\"help you minimize the amount of code in the try block, which is good for isolating potential exception causes and improves readability\"\n",
    "\n",
    "即把可能引起异常的语句写在try block中，余下的语句写在else block中。如果余下的语句中也包含可能引起异常的语句，这种写法也可以起到孤立异常的作用，便于debug。\n",
    "\n",
    "如果本次执行是valid的，那么执行的block顺序是try -> else -> finally. 因此else block也可以在finally之前做一些额外的处理。"
   ]
  },
  {
   "cell_type": "code",
   "execution_count": 5,
   "id": "analyzed-leone",
   "metadata": {},
   "outputs": [
    {
     "name": "stdout",
     "output_type": "stream",
     "text": [
      "* Loading JSON data\n",
      "* Looking up key\n"
     ]
    },
    {
     "ename": "KeyError",
     "evalue": "'does not exist'",
     "output_type": "error",
     "traceback": [
      "\u001b[0;31m---------------------------------------------------------------------------\u001b[0m",
      "\u001b[0;31mKeyError\u001b[0m                                  Traceback (most recent call last)",
      "\u001b[0;32m<ipython-input-5-157d3b3214ac>\u001b[0m in \u001b[0;36m<module>\u001b[0;34m\u001b[0m\n\u001b[1;32m     12\u001b[0m     \u001b[0;32mreturn\u001b[0m \u001b[0mresult_dict\u001b[0m\u001b[0;34m[\u001b[0m\u001b[0mkey\u001b[0m\u001b[0;34m]\u001b[0m \u001b[0;31m# May raise KeyError\u001b[0m\u001b[0;34m\u001b[0m\u001b[0;34m\u001b[0m\u001b[0m\n\u001b[1;32m     13\u001b[0m \u001b[0;34m\u001b[0m\u001b[0m\n\u001b[0;32m---> 14\u001b[0;31m \u001b[0mload_json_key\u001b[0m\u001b[0;34m(\u001b[0m\u001b[0;34m'{\"foo\": \"bar\"}'\u001b[0m\u001b[0;34m,\u001b[0m \u001b[0;34m'does not exist'\u001b[0m\u001b[0;34m)\u001b[0m\u001b[0;34m\u001b[0m\u001b[0;34m\u001b[0m\u001b[0m\n\u001b[0m",
      "\u001b[0;32m<ipython-input-5-157d3b3214ac>\u001b[0m in \u001b[0;36mload_json_key\u001b[0;34m(data, key)\u001b[0m\n\u001b[1;32m     10\u001b[0m     \u001b[0;32melse\u001b[0m\u001b[0;34m:\u001b[0m\u001b[0;34m\u001b[0m\u001b[0;34m\u001b[0m\u001b[0m\n\u001b[1;32m     11\u001b[0m         \u001b[0mprint\u001b[0m\u001b[0;34m(\u001b[0m\u001b[0;34m'* Looking up key'\u001b[0m\u001b[0;34m)\u001b[0m\u001b[0;34m\u001b[0m\u001b[0;34m\u001b[0m\u001b[0m\n\u001b[0;32m---> 12\u001b[0;31m     \u001b[0;32mreturn\u001b[0m \u001b[0mresult_dict\u001b[0m\u001b[0;34m[\u001b[0m\u001b[0mkey\u001b[0m\u001b[0;34m]\u001b[0m \u001b[0;31m# May raise KeyError\u001b[0m\u001b[0;34m\u001b[0m\u001b[0;34m\u001b[0m\u001b[0m\n\u001b[0m\u001b[1;32m     13\u001b[0m \u001b[0;34m\u001b[0m\u001b[0m\n\u001b[1;32m     14\u001b[0m \u001b[0mload_json_key\u001b[0m\u001b[0;34m(\u001b[0m\u001b[0;34m'{\"foo\": \"bar\"}'\u001b[0m\u001b[0;34m,\u001b[0m \u001b[0;34m'does not exist'\u001b[0m\u001b[0;34m)\u001b[0m\u001b[0;34m\u001b[0m\u001b[0;34m\u001b[0m\u001b[0m\n",
      "\u001b[0;31mKeyError\u001b[0m: 'does not exist'"
     ]
    }
   ],
   "source": [
    "import json\n",
    "\n",
    "def load_json_key(data, key):\n",
    "    try:\n",
    "        print('* Loading JSON data')\n",
    "        result_dict = json.loads(data) # May raise ValueError\n",
    "    except ValueError as e:\n",
    "        print('* Handling ValueError')\n",
    "        raise KeyError(key) from e\n",
    "    else:\n",
    "        print('* Looking up key')\n",
    "    return result_dict[key] # May raise KeyError\n",
    "\n",
    "load_json_key('{\"foo\": \"bar\"}', 'does not exist')"
   ]
  },
  {
   "cell_type": "markdown",
   "id": "psychological-edition",
   "metadata": {},
   "source": [
    "### Consider `contextlib` and `with` Statements for Reusable `try/finally` Behavior\n",
    "\n",
    "TODO: 暂时用不到，跳过\n",
    "\n",
    "### Use `datetime` Instead of `time` for Local Clocks\n",
    "\n",
    "datetime配合pytz, 可以很好的解决时区转换\n",
    "\n",
    "### Make `pickle` Reliable with `copyreg`\n",
    "\n",
    "TODO: 暂时用不到，跳过\n",
    "\n",
    "### Use `decimal` When Precision Is Paramount\n",
    "\n",
    "是一个比float更精准的模块\n",
    "\n",
    "TODO: 暂时用不到，跳过\n",
    "\n",
    "### Profile Before Optimizing\n",
    "\n",
    "介绍了一个很吊的测试工具，可以找出\"which parts of a program are responsible for its execution time\", 进而辅助优化代码\n",
    "\n",
    "TODO: 暂时用不到，跳过\n",
    "\n",
    "### Prefer `deque` for Producer-Consumer Queues\n",
    "\n",
    "虽然可以用list的append和pop(0)实现FIFO\n",
    "\n",
    "但list的pop(0)复杂度是O(n)的\n",
    "\n",
    "collections的deque(append和popleft)实现的FIFO， popleft是常数复杂度的\n",
    "\n",
    "### Consider Searching Sorted Sequences with `bisect`\n",
    "\n",
    "对于有序列表, list的`index`依然是线性复杂度的。\n",
    "\n",
    "bisect实现了log复杂度的二分查找。\n",
    "\n",
    "并支持exact match和cloest match\n",
    "\n",
    "The index it returns will either be \n",
    "- where the item is already present in the list \n",
    "- where you’d want to insert the item in the list to keep it **in sorted order**\n",
    "\n",
    "https://docs.python.org/zh-cn/3/library/bisect.html python文档\n",
    "\n",
    "`bisect.bisect_left(a, x, lo=0, hi=len(a))`\n",
    "\n",
    "在 a 中找到 x 合适的插入点以维持有序。参数 lo 和 hi 可以被用于确定需要考虑的子集；默认情况下整个列表都会被使用。如果 x 已经在 a 里存在，那么插入点会在已存在元素之前（也就是左边）。如果 a 是列表（list）的话，返回值是可以被放在 list.insert() 的第一个参数的。\n",
    "\n",
    "返回的插入点 i 可以将数组 a 分成两部分。左侧是 all(val < x for val in a[lo:i]) ，右侧是 all(val >= x for val in a[i:hi]) 。\n",
    "\n",
    "`bisect.bisect_right(a, x, lo=0, hi=len(a))`\n",
    "`bisect.bisect(a, x, lo=0, hi=len(a))`\n",
    "\n",
    "类似于 bisect_left()，但是返回的插入点是 a 中已存在元素 x 的右侧。\n",
    "\n",
    "返回的插入点 i 可以将数组 a 分成两部分。左侧是 all(val <= x for val in a[lo:i])，右侧是 all(val > x for val in a[i:hi]) for the right side。\n",
    "\n",
    "`bisect.insort_left(a, x, lo=0, hi=len(a))`\n",
    "\n",
    "将 x 插入到一个有序序列 a 里，并维持其有序。如果 a 有序的话，这相当于 a.insert(bisect.bisect_left(a, x, lo, hi), x)。要注意搜索是 O(log n) 的，插入却是 O(n) 的。\n",
    "\n",
    "`bisect.insort_right(a, x, lo=0, hi=len(a))`\n",
    "`bisect.insort(a, x, lo=0, hi=len(a))`\n",
    "\n",
    "类似于 insort_left()，但是把 x 插入到 a 中已存在元素 x 的右侧。"
   ]
  },
  {
   "cell_type": "code",
   "execution_count": 7,
   "id": "functioning-european",
   "metadata": {},
   "outputs": [
    {
     "name": "stdout",
     "output_type": "stream",
     "text": [
      "91234\n",
      "91235\n"
     ]
    }
   ],
   "source": [
    "from bisect import bisect_left\n",
    "\n",
    "data = list(range(10**5))\n",
    "\n",
    "index = bisect_left(data, 91234) # Exact match\n",
    "print(index)\n",
    "\n",
    "index = bisect_left(data, 91234.56) # Closest match\n",
    "print(index)"
   ]
  },
  {
   "cell_type": "markdown",
   "id": "seven-microwave",
   "metadata": {},
   "source": [
    "### Know How to Use `heapq` for Priority Queues\n",
    "\n",
    "list实现优先队列的问题类似(每插入一个元素，就sort一次)\n",
    "\n",
    "可以用`heapq`（heappush, heappop)来实现优先队列\n",
    "\n",
    "heapify，由list建堆的方法也是线性实现的\n",
    "\n",
    "### Consider `memoryview` and `bytearray` for Zero-Copy Interations with `bytes`\n",
    "\n",
    "TODO:看起来是用来做buffer的，跳过("
   ]
  }
 ],
 "metadata": {
  "kernelspec": {
   "display_name": "Python 3",
   "language": "python",
   "name": "python3"
  },
  "language_info": {
   "codemirror_mode": {
    "name": "ipython",
    "version": 3
   },
   "file_extension": ".py",
   "mimetype": "text/x-python",
   "name": "python",
   "nbconvert_exporter": "python",
   "pygments_lexer": "ipython3",
   "version": "3.6.12"
  }
 },
 "nbformat": 4,
 "nbformat_minor": 5
}
