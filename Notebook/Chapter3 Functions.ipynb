{
 "cells": [
  {
   "cell_type": "markdown",
   "id": "optimum-earth",
   "metadata": {},
   "source": [
    "## Functions\n",
    "\n",
    "### Never Unpack More Than Three Variables When Functions Return Multiple Values\n",
    "\n",
    "python支持函数多返回值，支持unpacking。\n",
    "\n",
    "导致我也偶尔写过这样的代码(\n",
    "\n",
    "`a, b, c, d, e, f, g, h, i = func()`\n",
    "\n",
    "这样的代码有两个明显的问题\n",
    "\n",
    "- 顺序很容易出错，需要对照检查，出错还很难发现。。\n",
    "- 可读性较差（如果代码要求pylint检查的话，行长度限制会使得这个语句七零八落）\n",
    "\n",
    "因此\n",
    "\n",
    "- 返回值不要超过3个\n",
    "- 否则， return a small class or namedtuple instance来替代\n",
    "> transformers中就使用了这种写法\n"
   ]
  },
  {
   "cell_type": "markdown",
   "id": "gorgeous-indianapolis",
   "metadata": {},
   "source": [
    "### Prefer Raising Exceptions to Returning None\n",
    "\n",
    "return None导致问题的最常见情景是：\n",
    "\n",
    "主过程中用`if not result`，而不是`if result is not None`来判断。而函数有正确的返回值0, 或是空字符串。\n",
    "\n",
    "一种常见的解决方式是返回一个tuple, `(flag, result)`，但调用者很容易就会忽视掉flag, 写起来也显得冗余\n",
    "\n",
    "因此推荐的写法就是在函数中raise, 由调用者来handle.\n",
    "- 复杂的API推荐派生Exception, 实现自己的异常处理类。"
   ]
  },
  {
   "cell_type": "code",
   "execution_count": null,
   "id": "verified-fraud",
   "metadata": {},
   "outputs": [],
   "source": [
    "# 一个完整的例子，包括type annotation和docstring\n",
    "def careful_divide(a: float, b: float) -> float:\n",
    "\"\"\"Divides a by b.\n",
    "\n",
    "Raises:\n",
    "ValueError: When the inputs cannot be divided.\n",
    "\"\"\"\n",
    "    try:\n",
    "        return a / b\n",
    "    except ZeroDivisionError as e:\n",
    "        raise ValueError('Invalid inputs')"
   ]
  }
 ],
 "metadata": {
  "kernelspec": {
   "display_name": "Python 3",
   "language": "python",
   "name": "python3"
  },
  "language_info": {
   "codemirror_mode": {
    "name": "ipython",
    "version": 3
   },
   "file_extension": ".py",
   "mimetype": "text/x-python",
   "name": "python",
   "nbconvert_exporter": "python",
   "pygments_lexer": "ipython3",
   "version": "3.8.0"
  }
 },
 "nbformat": 4,
 "nbformat_minor": 5
}
