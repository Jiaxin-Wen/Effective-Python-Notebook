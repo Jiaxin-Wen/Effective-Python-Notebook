{
 "cells": [
  {
   "cell_type": "markdown",
   "id": "roman-invention",
   "metadata": {},
   "source": [
    "## Functions\n",
    "\n",
    "### Never Unpack More Than Three Variables When Functions Return Multiple Values\n",
    "\n",
    "python支持函数多返回值，支持unpacking。\n",
    "\n",
    "导致我也偶尔写过这样的代码(\n",
    "\n",
    "`a, b, c, d, e, f, g, h, i = func()`\n",
    "\n",
    "这样的代码有两个明显的问题\n",
    "\n",
    "- 顺序很容易出错，需要对照检查，出错还很难发现。。\n",
    "- 可读性较差（如果代码要求pylint检查的话，行长度限制会使得这个语句七零八落）\n",
    "\n",
    "因此\n",
    "\n",
    "- 返回值不要超过3个\n",
    "- 否则， return a small class or namedtuple instance来替代\n",
    "> transformers中就使用了这种写法\n"
   ]
  },
  {
   "cell_type": "markdown",
   "id": "satellite-sewing",
   "metadata": {},
   "source": [
    "### Prefer Raising Exceptions to Returning None\n",
    "\n",
    "return None导致问题的最常见情景是：\n",
    "\n",
    "主过程中用`if not result`，而不是`if result is not None`来判断。而函数有正确的返回值0, 或是空字符串。\n",
    "\n",
    "一种常见的解决方式是返回一个tuple, `(flag, result)`，但调用者很容易就会忽视掉flag, 写起来也显得冗余\n",
    "\n",
    "因此推荐的写法就是在函数中raise, 由调用者来handle.\n",
    "- 复杂的API推荐派生Exception, 实现自己的异常处理类。"
   ]
  },
  {
   "cell_type": "code",
   "execution_count": 1,
   "id": "metric-enemy",
   "metadata": {},
   "outputs": [],
   "source": [
    "# 一个完整的例子，包括type annotation和docstring\n",
    "def careful_divide(a: float, b: float) -> float:\n",
    "    \"\"\"Divides a by b.\n",
    "\n",
    "    Raises:\n",
    "    ValueError: When the inputs cannot be divided.\n",
    "    \"\"\"\n",
    "    try:\n",
    "        return a / b\n",
    "    except ZeroDivisionError as e:\n",
    "        raise ValueError('Invalid inputs')"
   ]
  },
  {
   "cell_type": "markdown",
   "id": "manufactured-tackle",
   "metadata": {},
   "source": [
    "### Know How Closures Interact with Variable Scope\n",
    "\n",
    "嵌套函数定义我们经常使用。\n",
    "\n",
    "内部定义的函数，可以直接访问外层函数的变量。\n",
    "\n",
    "但如果内部定义函数对一个外层函数含有的变量进行赋值，实际行为是在内部函数的作用域内重新创建了一个新的同名变量，而不是修改外层函数变量的值。\n",
    "\n",
    "为此要使用nonlocal关键字 (\"complementary to the `global` statement\")"
   ]
  },
  {
   "cell_type": "code",
   "execution_count": 2,
   "id": "square-strain",
   "metadata": {},
   "outputs": [
    {
     "name": "stdout",
     "output_type": "stream",
     "text": [
      "found:  True\n",
      "numbers =  [2, 3, 5, 7, 1, 4, 6, 8]\n"
     ]
    }
   ],
   "source": [
    "def sort_priority(numbers, group):\n",
    "    found = False\n",
    "    def helper(x):\n",
    "        nonlocal found # 否则return的found只会是False\n",
    "        if x in group:\n",
    "            found = True\n",
    "            return (0, x)\n",
    "        return (1, x)\n",
    "    numbers.sort(key=helper)\n",
    "    return found\n",
    "\n",
    "numbers = [8, 3, 1, 2, 5, 4, 7, 6]\n",
    "group = [2, 3, 5, 7]\n",
    "found = sort_priority(numbers, group)\n",
    "print('found: ', found)\n",
    "print('numbers = ', numbers)"
   ]
  },
  {
   "cell_type": "code",
   "execution_count": 3,
   "id": "front-conviction",
   "metadata": {},
   "outputs": [
    {
     "name": "stdout",
     "output_type": "stream",
     "text": [
      "found:  True\n",
      "numbers =  [2, 3, 5, 7, 1, 4, 6, 8]\n"
     ]
    }
   ],
   "source": [
    "# 注意，nonlocal是可以用class的成员变量轻松实现的\n",
    "# 因此当nonlocal比较复杂的时候，不妨用class来替代\n",
    "\n",
    "class Sorter:\n",
    "    def __init__(self, group):\n",
    "        self.group = group\n",
    "        self.found = False\n",
    "    def __call__(self, x):\n",
    "        if x in self.group:\n",
    "            self.found = True\n",
    "            return (0, x)\n",
    "        return (1, x)\n",
    "sorter = Sorter(group)\n",
    "numbers.sort(key=sorter)\n",
    "print('found: ', sorter.found)\n",
    "print('numbers = ', numbers)"
   ]
  },
  {
   "cell_type": "markdown",
   "id": "accepted-vaccine",
   "metadata": {},
   "source": [
    "### Provide Optional Behavior with Keyword Arguments\n",
    "\n",
    "除了普遍支持的position argument外，python还支持keyword argument\n",
    "\n",
    "keyword argument的好处主要有以下三点\n",
    "- 增强了函数调用的可读性\n",
    "- 若函数有多个optional argument，调用时可以通过keyword argument直接设置其中的一个或几个。\n",
    "- 扩展函数参数时不需要改之前的调用。(新增的参数提供默认值,即optional参数，新的调用用keyword argument设置新增参数)"
   ]
  },
  {
   "cell_type": "code",
   "execution_count": 4,
   "id": "charged-adrian",
   "metadata": {},
   "outputs": [
    {
     "name": "stdout",
     "output_type": "stream",
     "text": [
      "6\n",
      "6\n",
      "6\n",
      "alpha = 1.5\n",
      "beta = 9\n"
     ]
    }
   ],
   "source": [
    "# keyword argument的形式有多种\n",
    "\n",
    "def func(number, divisor):\n",
    "    return number % divisor\n",
    "\n",
    "print(func(number=20, divisor=7))\n",
    "\n",
    "kwargs = {'number': 20, 'divisor': 7}\n",
    "print(func(**kwargs))\n",
    "\n",
    "kwargs = {'divisor': 7}\n",
    "print(func(number=20, **kwargs))\n",
    "\n",
    "def print_parameters(**kwargs):\n",
    "    for k, v in kwargs.items():\n",
    "        print(f'{k} = {v}')\n",
    "\n",
    "print_parameters(alpha=1.5, beta=9)\n"
   ]
  },
  {
   "cell_type": "markdown",
   "id": "awful-soundtrack",
   "metadata": {},
   "source": [
    "### Use `None` and Docstrings to Specify Dynamic Default Arguments\n",
    "\n",
    "这个有点坑。。。\n",
    "\n",
    "\"A default argument value is evaluated only once during function definition at module load time, which usually happens when a program starts up. After the module containing this code is loaded, default arguemnt will never be evaluated again\"\n",
    "\n",
    "即参数的默认值会在load模块时赋值一次，之后就不再重复了。\n",
    "\n",
    "如果默认的value是static的，比如一个int, 那不会导致错误。\n",
    "\n",
    "但如果默认的value是dynamic(比如`[]`, `{}`, `datetime.now()`)，这个特性就会导致unexpected behavior的发生"
   ]
  },
  {
   "cell_type": "code",
   "execution_count": 5,
   "id": "forward-garlic",
   "metadata": {},
   "outputs": [
    {
     "name": "stdout",
     "output_type": "stream",
     "text": [
      "2021-02-21 00:40:28.591086: Hi there!\n",
      "2021-02-21 00:40:28.591086: Hello again!\n"
     ]
    }
   ],
   "source": [
    "from time import sleep\n",
    "from datetime import datetime\n",
    "\n",
    "def log(message, when=datetime.now()): # 这里的now只调用一次，导致错误\n",
    "    print(f'{when}: {message}')\n",
    "    \n",
    "log(\"Hi there!\")\n",
    "sleep(0.1)\n",
    "log('Hello again!')"
   ]
  },
  {
   "cell_type": "code",
   "execution_count": 6,
   "id": "announced-savage",
   "metadata": {},
   "outputs": [
    {
     "name": "stdout",
     "output_type": "stream",
     "text": [
      "Foo: {'stuff': 5, 'meep': 1}\n",
      "Bar: {'stuff': 5, 'meep': 1}\n"
     ]
    }
   ],
   "source": [
    "import json\n",
    "\n",
    "def decode(data, default = {}): # 同一个default在传递\n",
    "    try:\n",
    "        return json.loads(data)\n",
    "    except ValueError:\n",
    "        return default\n",
    "\n",
    "foo = decode('bad data')\n",
    "foo['stuff'] = 5\n",
    "bar = decode('also bad')\n",
    "bar['meep'] = 1\n",
    "print('Foo:', foo)\n",
    "print('Bar:', bar)"
   ]
  },
  {
   "cell_type": "code",
   "execution_count": 7,
   "id": "deluxe-smooth",
   "metadata": {},
   "outputs": [
    {
     "name": "stdout",
     "output_type": "stream",
     "text": [
      "2021-02-21 00:40:28.725004: Hi there!\n",
      "2021-02-21 00:40:28.825524: Hello again!\n"
     ]
    }
   ],
   "source": [
    "# 因此应该用None替代dynamic value作为default value\n",
    "\n",
    "from typing import Optional\n",
    "\n",
    "def log_typed(message: str,\n",
    "    when: Optional[datetime]=None) -> None:\n",
    "    \"\"\"Log a message with a timestamp.\n",
    "    Args:\n",
    "        message: Message to print.\n",
    "        when: datetime of when the message occurred.\n",
    "            Defaults to the present time.\n",
    "    \"\"\"\n",
    "    if when is None:\n",
    "        when = datetime.now()\n",
    "    print(f'{when}: {message}')\n",
    "\n",
    "log_typed(\"Hi there!\")\n",
    "sleep(0.1)\n",
    "log_typed('Hello again!')"
   ]
  },
  {
   "cell_type": "markdown",
   "id": "instrumental-mining",
   "metadata": {},
   "source": [
    "### Enforce Clarity with Keyword-Only and Positional-Only Arguments\n",
    "\n",
    "对于没有强制要求的keyword argument, 调用者依然可能用position argument的方式调用，可读性没有得到改善。\n",
    "\n",
    "而对于没有强制要求的position argument, 调用者反而可能用keyword argument的方式调用，更改参数名后原来的调用就会挂掉。\n",
    "\n",
    "为了让函数实现者的苦心不被辜负，python 3.8引入了positional-only argument, 与之前已经支持的keyword-only argument一齐，解决了这个问题\n",
    "\n",
    "- keyword-only: *将其后的参数设为keyword-only\n",
    "- positional-only: /将之前的参数设为positional-only\n",
    "- *和/之间的参数不设限制 (python对于parameter的默认设置)"
   ]
  },
  {
   "cell_type": "code",
   "execution_count": 8,
   "id": "unavailable-chile",
   "metadata": {},
   "outputs": [
    {
     "name": "stdout",
     "output_type": "stream",
     "text": [
      "call\n",
      "call\n"
     ]
    }
   ],
   "source": [
    "def func(number, divisor, /, n, *, flag=False):\n",
    "    print('call')\n",
    "\n",
    "# func(number=1, 2) 报错\n",
    "# func(1, 2, True) 报错\n",
    "func(1, 2, 3, flag=True)\n",
    "func(1, 2, n=3, flag=True)"
   ]
  },
  {
   "cell_type": "markdown",
   "id": "prepared-ontario",
   "metadata": {},
   "source": [
    "### Define Function Decorators with `functool.wrap`\n",
    "\n",
    "装饰器是很常用的feature.\n",
    "\n",
    "这里主要是想说明,\"Using decorators can cause **strange behaviors** in tools that do introspection, such as debuggers\"\n",
    "\n",
    "因为返回的函数是装饰过的函数，不再是原函数，`__name__`，`docstring`, `__module__`, `__annotations__`等属性都改变了。\n",
    "\n",
    "为此，可以使用functools中的wraps,\n",
    "\n",
    ">\"When you apply it to the wrapper, it copies all of the important metadata about the inner function to the outer function\""
   ]
  },
  {
   "cell_type": "code",
   "execution_count": 9,
   "id": "broadband-stephen",
   "metadata": {},
   "outputs": [
    {
     "name": "stdout",
     "output_type": "stream",
     "text": [
      "fibonacci((0,), {}) -> 0\n",
      "fibonacci((1,), {}) -> 1\n",
      "fibonacci((2,), {}) -> 1\n",
      "fibonacci((1,), {}) -> 1\n",
      "fibonacci((0,), {}) -> 0\n",
      "fibonacci((1,), {}) -> 1\n",
      "fibonacci((2,), {}) -> 1\n",
      "fibonacci((3,), {}) -> 2\n",
      "fibonacci((4,), {}) -> 3\n",
      "Help on function wrapper in module __main__:\n",
      "\n",
      "wrapper(*args, **kwargs)\n",
      "\n",
      "wrapper\n"
     ]
    }
   ],
   "source": [
    "def trace(func):\n",
    "    def wrapper(*args, **kwargs): # positional argument和keyword argument\n",
    "        result = func(*args, **kwargs)\n",
    "        print(f'{func.__name__}({args!r}, {kwargs!r}) '\n",
    "              f'-> {result!r}')\n",
    "        return result\n",
    "    return wrapper\n",
    "\n",
    "@trace\n",
    "def fibonacci(n):\n",
    "    \"\"\"Return the n-th Fibonacci number\"\"\"\n",
    "    if n in (0, 1):\n",
    "        return n\n",
    "    return (fibonacci(n - 2) + fibonacci(n - 1))\n",
    "\n",
    "fibonacci(4)\n",
    "help(fibonacci)\n",
    "print(fibonacci.__name__)"
   ]
  },
  {
   "cell_type": "code",
   "execution_count": 10,
   "id": "initial-bachelor",
   "metadata": {},
   "outputs": [
    {
     "name": "stdout",
     "output_type": "stream",
     "text": [
      "fibonacci((0,), {}) -> 0\n",
      "fibonacci((1,), {}) -> 1\n",
      "fibonacci((2,), {}) -> 1\n",
      "fibonacci((1,), {}) -> 1\n",
      "fibonacci((0,), {}) -> 0\n",
      "fibonacci((1,), {}) -> 1\n",
      "fibonacci((2,), {}) -> 1\n",
      "fibonacci((3,), {}) -> 2\n",
      "fibonacci2((4,), {}) -> 3\n",
      "Help on function fibonacci2 in module __main__:\n",
      "\n",
      "fibonacci2(n)\n",
      "    Return the n-th Fibonacci number\n",
      "\n",
      "fibonacci2\n"
     ]
    }
   ],
   "source": [
    "from functools import wraps\n",
    "\n",
    "def trace2(func):\n",
    "    @wraps(func)\n",
    "    def wrapper(*args, **kwargs):\n",
    "        result = func(*args, **kwargs)\n",
    "        print(f'{func.__name__}({args!r}, {kwargs!r}) '\n",
    "              f'-> {result!r}')\n",
    "        return result\n",
    "    return wrapper\n",
    "\n",
    "@trace2\n",
    "def fibonacci2(n):\n",
    "    \"\"\"Return the n-th Fibonacci number\"\"\"\n",
    "    if n in (0, 1):\n",
    "        return n\n",
    "    return (fibonacci(n - 2) + fibonacci(n - 1))\n",
    "\n",
    "fibonacci2(4)\n",
    "help(fibonacci2)\n",
    "print(fibonacci2.__name__)"
   ]
  }
 ],
 "metadata": {
  "kernelspec": {
   "display_name": "Python 3",
   "language": "python",
   "name": "python3"
  },
  "language_info": {
   "codemirror_mode": {
    "name": "ipython",
    "version": 3
   },
   "file_extension": ".py",
   "mimetype": "text/x-python",
   "name": "python",
   "nbconvert_exporter": "python",
   "pygments_lexer": "ipython3",
   "version": "3.8.0"
  }
 },
 "nbformat": 4,
 "nbformat_minor": 5
}
