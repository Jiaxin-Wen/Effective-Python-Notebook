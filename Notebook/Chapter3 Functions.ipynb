{
 "cells": [
  {
   "cell_type": "markdown",
   "id": "organic-ticket",
   "metadata": {},
   "source": [
    "## Functions\n",
    "\n",
    "### Never Unpack More Than Three Variables When Functions Return Multiple Values\n",
    "\n",
    "python支持函数多返回值，支持unpacking。\n",
    "\n",
    "导致我也偶尔写过这样的代码(\n",
    "\n",
    "`a, b, c, d, e, f, g, h, i = func()`\n",
    "\n",
    "这样的代码有两个明显的问题\n",
    "\n",
    "- 顺序很容易出错，需要对照检查，出错还很难发现。。\n",
    "- 可读性较差（如果代码要求pylint检查的话，行长度限制会使得这个语句七零八落）\n",
    "\n",
    "因此\n",
    "\n",
    "- 返回值不要超过3个\n",
    "- 否则， return a small class or namedtuple instance来替代\n",
    "> transformers中就使用了这种写法\n"
   ]
  },
  {
   "cell_type": "markdown",
   "id": "unlimited-commercial",
   "metadata": {},
   "source": [
    "### Prefer Raising Exceptions to Returning None\n",
    "\n",
    "return None导致问题的最常见情景是：\n",
    "\n",
    "主过程中用`if not result`，而不是`if result is not None`来判断。而函数有正确的返回值0, 或是空字符串。\n",
    "\n",
    "一种常见的解决方式是返回一个tuple, `(flag, result)`，但调用者很容易就会忽视掉flag, 写起来也显得冗余\n",
    "\n",
    "因此推荐的写法就是在函数中raise, 由调用者来handle.\n",
    "- 复杂的API推荐派生Exception, 实现自己的异常处理类。"
   ]
  },
  {
   "cell_type": "code",
   "execution_count": 1,
   "id": "polar-microwave",
   "metadata": {},
   "outputs": [],
   "source": [
    "# 一个完整的例子，包括type annotation和docstring\n",
    "def careful_divide(a: float, b: float) -> float:\n",
    "    \"\"\"Divides a by b.\n",
    "\n",
    "    Raises:\n",
    "    ValueError: When the inputs cannot be divided.\n",
    "    \"\"\"\n",
    "    try:\n",
    "        return a / b\n",
    "    except ZeroDivisionError as e:\n",
    "        raise ValueError('Invalid inputs')"
   ]
  },
  {
   "cell_type": "markdown",
   "id": "durable-search",
   "metadata": {},
   "source": [
    "### Know How Closures Interact with Variable Scope\n",
    "\n",
    "嵌套函数定义我们经常使用。\n",
    "\n",
    "内部定义的函数，可以直接访问外层函数的变量。\n",
    "\n",
    "但如果内部定义函数对一个外层函数含有的变量进行赋值，实际行为是在内部函数的作用域内重新创建了一个新的同名变量，而不是修改外层函数变量的值。\n",
    "\n",
    "为此要使用nonlocal关键字 (\"complementary to the `global` statement\")"
   ]
  },
  {
   "cell_type": "code",
   "execution_count": 2,
   "id": "modular-lindsay",
   "metadata": {},
   "outputs": [
    {
     "name": "stdout",
     "output_type": "stream",
     "text": [
      "found:  True\n",
      "numbers =  [2, 3, 5, 7, 1, 4, 6, 8]\n"
     ]
    }
   ],
   "source": [
    "def sort_priority(numbers, group):\n",
    "    found = False\n",
    "    def helper(x):\n",
    "        nonlocal found # 否则return的found只会是False\n",
    "        if x in group:\n",
    "            found = True\n",
    "            return (0, x)\n",
    "        return (1, x)\n",
    "    numbers.sort(key=helper)\n",
    "    return found\n",
    "\n",
    "numbers = [8, 3, 1, 2, 5, 4, 7, 6]\n",
    "group = [2, 3, 5, 7]\n",
    "found = sort_priority(numbers, group)\n",
    "print('found: ', found)\n",
    "print('numbers = ', numbers)"
   ]
  },
  {
   "cell_type": "code",
   "execution_count": 3,
   "id": "green-royalty",
   "metadata": {},
   "outputs": [
    {
     "name": "stdout",
     "output_type": "stream",
     "text": [
      "found:  True\n",
      "numbers =  [2, 3, 5, 7, 1, 4, 6, 8]\n"
     ]
    }
   ],
   "source": [
    "# 注意，nonlocal是可以用class的成员变量轻松实现的\n",
    "# 因此当nonlocal比较复杂的时候，不妨用class来替代\n",
    "\n",
    "class Sorter:\n",
    "    def __init__(self, group):\n",
    "        self.group = group\n",
    "        self.found = False\n",
    "    def __call__(self, x):\n",
    "        if x in self.group:\n",
    "            self.found = True\n",
    "            return (0, x)\n",
    "        return (1, x)\n",
    "sorter = Sorter(group)\n",
    "numbers.sort(key=sorter)\n",
    "print('found: ', sorter.found)\n",
    "print('numbers = ', numbers)"
   ]
  },
  {
   "cell_type": "markdown",
   "id": "completed-float",
   "metadata": {},
   "source": [
    "### Provide Optional Behavior with Keyword Arguments\n",
    "\n",
    "除了普遍支持的position argument外，python还支持keyword argument\n",
    "\n",
    "keyword argument的好处主要有以下三点\n",
    "- 增强了函数调用的可读性\n",
    "- 若函数有多个optional argument，调用时可以通过keyword argument直接设置其中的一个或几个。\n",
    "- 扩展函数参数时不需要改之前的调用。(新增的参数提供默认值,即optional参数，新的调用用keyword argument设置新增参数)"
   ]
  },
  {
   "cell_type": "code",
   "execution_count": 6,
   "id": "directed-broadway",
   "metadata": {},
   "outputs": [
    {
     "name": "stdout",
     "output_type": "stream",
     "text": [
      "6\n",
      "6\n",
      "6\n"
     ]
    }
   ],
   "source": [
    "# keyword argument的形式有多种\n",
    "\n",
    "def func(number, divisor):\n",
    "    return number % divisor\n",
    "\n",
    "print(func(number=20, divisor=7))\n",
    "\n",
    "kwargs = {'number': 20, 'divisor': 7}\n",
    "print(func(**kwargs))\n",
    "\n",
    "kwargs = {'divisor': 7}\n",
    "print(func(number=20, **kwargs))\n",
    "\n",
    "def print_parameters(**kwargs):\n",
    "    for k, v in kwargs.items():\n",
    "        print(f'{k} = {v}')\n",
    "\n",
    "print_parameters(alpha=1.5, beta=9)\n"
   ]
  }
 ],
 "metadata": {
  "kernelspec": {
   "display_name": "Python 3",
   "language": "python",
   "name": "python3"
  },
  "language_info": {
   "codemirror_mode": {
    "name": "ipython",
    "version": 3
   },
   "file_extension": ".py",
   "mimetype": "text/x-python",
   "name": "python",
   "nbconvert_exporter": "python",
   "pygments_lexer": "ipython3",
   "version": "3.8.0"
  }
 },
 "nbformat": 4,
 "nbformat_minor": 5
}
