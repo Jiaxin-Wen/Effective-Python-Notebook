{
 "cells": [
  {
   "cell_type": "markdown",
   "id": "ceramic-nickname",
   "metadata": {},
   "source": [
    "## Classes and Interfaces\n",
    "\n",
    "### Compose Classes Instead of Nesting Many Levels of Built-in Types\n",
    "\n",
    "python提供的丰富的数据结构，以及简便的组合方式，使得我们很容易嵌套多层。\n",
    "\n",
    "比如dict with values that are dicts，这时就应该用namedtuple, 或是自己封装的类来管理\n",
    "\n",
    "（但我觉得嵌套个两三层都还行"
   ]
  },
  {
   "cell_type": "markdown",
   "id": "empirical-heavy",
   "metadata": {},
   "source": [
    "### Accept Functions Instead of Classes for Simple Interfaces\n",
    "\n",
    "\n",
    "python支持first-class functions\n",
    "\n",
    "比如函数可以作为参数传递，成员函数可以直接通过函数名访问\n",
    "\n",
    "> https://stackoverflow.com/questions/27392402/what-is-first-class-function-in-python#:~:text=All%20functions%20in%20Python%20are,(like%20integers%20or%20strings).\n",
    "A first-class function is not a particular kind of function. All functions in Python are first-class functions. To say that functions are first-class in a certain programming language means that they can be passed around and manipulated similarly to how you would pass around and manipulate other kinds of objects (like integers or strings). You can assign a function to a variable, pass it as an argument to another function, etc. \n",
    "\n",
    "因此很多功能可以直接利用python封装好的module, 传入一个自定义的function, 完成一个class的内容。\n",
    "\n",
    "例如`defaultdict(key)`, `sort(key)`等等。\n",
    "\n",
    "传递的函数可以是\n",
    "\n",
    "- lambda\n",
    "- 普通函数\n",
    "- 成员函数(通过object.function访问 -> first-class)\n",
    "- 重载了__call__的类对象"
   ]
  },
  {
   "cell_type": "code",
   "execution_count": 2,
   "id": "exceptional-register",
   "metadata": {},
   "outputs": [
    {
     "name": "stdout",
     "output_type": "stream",
     "text": [
      "defaultdict(<__main__.BetterCountMissing object at 0x7f34c102bd90>, {'a': 2, 'b': 3})\n"
     ]
    }
   ],
   "source": [
    "from collections import defaultdict\n",
    "\n",
    "class BetterCountMissing:\n",
    "    def __init__(self):\n",
    "        self.added = 0\n",
    "    def __call__(self):\n",
    "        self.added += 1\n",
    "        return 0\n",
    "\n",
    "counter = BetterCountMissing()\n",
    "result = defaultdict(counter, {\"a\": 2})\n",
    "increments = {\"b\": 3}\n",
    "for k, v in increments.items():\n",
    "    result[k] += v\n",
    "print(result)"
   ]
  },
  {
   "cell_type": "markdown",
   "id": "starting-shoulder",
   "metadata": {},
   "source": [
    "### Using `@classmethod` Polymnorphism to Construct Objects Generically\n",
    "\n",
    "python不支持构造函数的重载，而@classmethod可以用来简接实现构造函数(更像是工厂方法）\n",
    " "
   ]
  },
  {
   "cell_type": "code",
   "execution_count": 2,
   "id": "indoor-palmer",
   "metadata": {},
   "outputs": [
    {
     "name": "stdout",
     "output_type": "stream",
     "text": [
      "[name: Bob, name: Alice]\n"
     ]
    }
   ],
   "source": [
    "class Student:\n",
    "    def __init__(self, name):\n",
    "        self.name = name\n",
    "    \n",
    "    @classmethod\n",
    "    def from_list(cls, names):\n",
    "        students = [cls(i) for i in names]\n",
    "        return students\n",
    "    \n",
    "    def __repr__(self):\n",
    "        return \"name: \" + self.name\n",
    "    \n",
    "names = ['Bob', 'Alice']\n",
    "students = Student.from_list(names)\n",
    "print(students)"
   ]
  },
  {
   "cell_type": "markdown",
   "id": "rough-object",
   "metadata": {},
   "source": [
    "### Initialize Parent Class with `super`\n",
    "\n",
    "python支持多重继承，如果用`Parent.__init__(self, key)`的方式构造父类，可能会因为调用的顺序不同，或是祖先类构造多次，导致难以发现的bug.\n",
    "\n",
    "而super().__init__()解决了这一问题，按照mro列表的顺序进行构造函数的调用，并保证每个构造函数只被调用一次。"
   ]
  },
  {
   "cell_type": "code",
   "execution_count": 3,
   "id": "female-document",
   "metadata": {},
   "outputs": [
    {
     "name": "stdout",
     "output_type": "stream",
     "text": [
      "[<class '__main__.Func'>, <class '__main__.Increment'>, <class '__main__.Double'>, <class '__main__.Root'>, <class 'object'>]\n",
      "11\n"
     ]
    }
   ],
   "source": [
    "class Root:\n",
    "    def __init__(self, v):\n",
    "        self.v = v\n",
    "\n",
    "class Increment(Root):\n",
    "    def __init__(self, v):\n",
    "        super().__init__(v)\n",
    "        self.v += 1\n",
    "        \n",
    "class Double(Root):\n",
    "    def __init__(self, v):\n",
    "        super().__init__(v)\n",
    "        self.v *= 2\n",
    "\n",
    "class Func(Increment, Double): # 决定了mro的顺序, \"in Python the class hierarchy is defined right to left\"\n",
    "    def __init__(self, v):\n",
    "        super().__init__(v)\n",
    "\n",
    "        \n",
    "func = Func(5)\n",
    "print(Func.mro())\n",
    "print(func.v) # double先递归结束, 即先+1, 再*2"
   ]
  },
  {
   "cell_type": "markdown",
   "id": "seasonal-virginia",
   "metadata": {},
   "source": [
    "### Consider Composing Functionality with Mix-in Classes\n",
    "\n",
    "> \"Python supports a simple type of multiple inheritance which allows the creation of Mixins. Mixins are a sort of class that is used to \"mix in\" extra properties and methods into a class. This allows you to create classes in a compositional style.\"\n",
    "\n",
    "mixin很像是java的interface, 只不过python支持多重继承，因此可以直接inhert mix-xin class而不是extends.\n",
    "\n",
    "mixin不会实现构造函数，没有instance attribute(即成员变量)\n",
    "```\n",
    "python分为class attribute(即静态变量)和instance attribute(即成员变量, 例如self.variable)\n",
    "```\n",
    "mixin的应用场景有以下几种\n",
    "\n",
    "- 多个class共用一个功能\n",
    "- 将相关的功能整合在一起，通过多个mixin的组合，派生出一个可以实现复杂功能的class"
   ]
  },
  {
   "cell_type": "markdown",
   "id": "dense-shelf",
   "metadata": {},
   "source": [
    "### Prefer Public Attributes Over Private Ones\n",
    "\n",
    "> \"We are all consenting adults here\"\n",
    "\n",
    "python没有严格约束变量的可见性，即使是private变量也可以通过_class__attribute访问\n",
    "\n",
    "大部分情况下都推荐使用protected而不是private\n",
    "\n",
    "唯一需要考虑使用private的情况是, \"when you'are worried about nameing conflicts with subclasses\", 即派生类定义了同名变量（因为派生类往往是out of your control的)\n",
    "\n",
    "为了减少这种问题出现的概率，就可以使用private attribute."
   ]
  },
  {
   "cell_type": "markdown",
   "id": "detailed-croatia",
   "metadata": {},
   "source": [
    "### Inherit from `collections.abc` for Custom Container Types\n",
    "\n",
    "abs: abstract base class\n",
    "    \n",
    "- 如果要实现简单的容器类，可以直接继承list\n",
    "    \n",
    "- 如果要自己实现复杂的容器类，可以继承`collecitons.abc`。\n",
    "  利用抽象函数的性质，保证不会遗漏必须的成员函数重载。"
   ]
  }
 ],
 "metadata": {
  "kernelspec": {
   "display_name": "Python 3",
   "language": "python",
   "name": "python3"
  },
  "language_info": {
   "codemirror_mode": {
    "name": "ipython",
    "version": 3
   },
   "file_extension": ".py",
   "mimetype": "text/x-python",
   "name": "python",
   "nbconvert_exporter": "python",
   "pygments_lexer": "ipython3",
   "version": "3.6.12"
  }
 },
 "nbformat": 4,
 "nbformat_minor": 5
}
