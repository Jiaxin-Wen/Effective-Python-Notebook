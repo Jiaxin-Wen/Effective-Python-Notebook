{
 "cells": [
  {
   "cell_type": "markdown",
   "id": "adapted-hormone",
   "metadata": {},
   "source": [
    "## Classes and Interfaces\n",
    "\n",
    "### Compose Classes Instead of Nesting Many Levels of Built-in Types\n",
    "\n",
    "python提供的丰富的数据结构，以及简便的组合方式，使得我们很容易嵌套多层。\n",
    "\n",
    "比如dict with values that are dicts，这时就应该用namedtuple, 或是自己封装的类来管理\n",
    "\n",
    "（但我觉得嵌套个两三层都还行"
   ]
  },
  {
   "cell_type": "markdown",
   "id": "moral-player",
   "metadata": {},
   "source": [
    "### Accept Functions Instead of Classes for Simple Interfaces\n",
    "\n",
    "\n",
    "python支持first-class functions\n",
    "\n",
    "比如函数可以作为参数传递，成员函数可以直接通过函数名访问\n",
    "\n",
    "> https://stackoverflow.com/questions/27392402/what-is-first-class-function-in-python#:~:text=All%20functions%20in%20Python%20are,(like%20integers%20or%20strings).\n",
    "A first-class function is not a particular kind of function. All functions in Python are first-class functions. To say that functions are first-class in a certain programming language means that they can be passed around and manipulated similarly to how you would pass around and manipulate other kinds of objects (like integers or strings). You can assign a function to a variable, pass it as an argument to another function, etc. \n",
    "\n",
    "因此很多功能可以直接利用python封装好的module, 传入一个自定义的function, 完成一个class的内容。\n",
    "\n",
    "例如`defaultdict(key)`, `sort(key)`等等。\n",
    "\n",
    "传递的函数可以是\n",
    "\n",
    "- lambda\n",
    "- 普通函数\n",
    "- 成员函数(通过object.function访问 -> first-class)\n",
    "- 重载了__call__的类对象"
   ]
  },
  {
   "cell_type": "code",
   "execution_count": 2,
   "id": "serious-senior",
   "metadata": {},
   "outputs": [
    {
     "name": "stdout",
     "output_type": "stream",
     "text": [
      "defaultdict(<__main__.BetterCountMissing object at 0x7f34c102bd90>, {'a': 2, 'b': 3})\n"
     ]
    }
   ],
   "source": [
    "from collections import defaultdict\n",
    "\n",
    "class BetterCountMissing:\n",
    "    def __init__(self):\n",
    "        self.added = 0\n",
    "    def __call__(self):\n",
    "        self.added += 1\n",
    "        return 0\n",
    "\n",
    "counter = BetterCountMissing()\n",
    "result = defaultdict(counter, {\"a\": 2})\n",
    "increments = {\"b\": 3}\n",
    "for k, v in increments.items():\n",
    "    result[k] += v\n",
    "print(result)"
   ]
  },
  {
   "cell_type": "markdown",
   "id": "virgin-processor",
   "metadata": {},
   "source": [
    "### Using `@classmethod` Polymnorphism to Construct Objects Generically\n",
    "\n"
   ]
  }
 ],
 "metadata": {
  "kernelspec": {
   "display_name": "Python 3",
   "language": "python",
   "name": "python3"
  },
  "language_info": {
   "codemirror_mode": {
    "name": "ipython",
    "version": 3
   },
   "file_extension": ".py",
   "mimetype": "text/x-python",
   "name": "python",
   "nbconvert_exporter": "python",
   "pygments_lexer": "ipython3",
   "version": "3.8.0"
  }
 },
 "nbformat": 4,
 "nbformat_minor": 5
}
