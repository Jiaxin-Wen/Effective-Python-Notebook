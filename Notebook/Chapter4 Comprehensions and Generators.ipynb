{
 "cells": [
  {
   "cell_type": "markdown",
   "id": "straight-anchor",
   "metadata": {},
   "source": [
    "## Comprehensions and Generators\n",
    "\n",
    "### Avoid More Than Two Control Subexpressions in Comprehensions\n",
    "\n",
    "列表解析是我们很常用的feature，它支持multiple levels的循环嵌套, multiple conditions per loop level的约束逻辑组合，如下例所示。\n",
    "\n",
    "当超过两层循环，或condition超过两个的时候，应该用普通的for循环替代，增强可读性。"
   ]
  },
  {
   "cell_type": "code",
   "execution_count": 1,
   "id": "unexpected-camping",
   "metadata": {},
   "outputs": [
    {
     "name": "stdout",
     "output_type": "stream",
     "text": [
      "[3, 4]\n"
     ]
    }
   ],
   "source": [
    "matrix = [[1, 2, 3], [4, 5, 6], [7, 8, 9]]\n",
    "flat = [x for row in matrix for x in row if x > 2 and x <5] # 两层\n",
    "print(flat)"
   ]
  },
  {
   "cell_type": "markdown",
   "id": "touched-estimate",
   "metadata": {},
   "source": [
    "### Avoid Repeated Work in Comprehensions by Using Assignment Expressions\n",
    "\n",
    "列表解析中的条件判断常常会引入重复的code, 正如前面提到的，可以通过python 3.8引入的`walrus operator :=`来解决"
   ]
  },
  {
   "cell_type": "code",
   "execution_count": 2,
   "id": "inside-handle",
   "metadata": {},
   "outputs": [
    {
     "name": "stdout",
     "output_type": "stream",
     "text": [
      "[15, 4, 1, 3]\n",
      "[15, 4, 1, 3]\n"
     ]
    }
   ],
   "source": [
    "def get_batch(count, size):\n",
    "    return count // size\n",
    "\n",
    "somelist = [125, 35, 8, 24]\n",
    "\n",
    "# repeat\n",
    "result = [get_batch(i, 8) for i in somelist if get_batch(i, 8)]\n",
    "print(result)\n",
    "\n",
    "# solution\n",
    "result = [batch for i in somelist if (batch := get_batch(i, 8))]\n",
    "print(result)"
   ]
  },
  {
   "cell_type": "markdown",
   "id": "polished-claim",
   "metadata": {},
   "source": [
    "### Consider Generators Instead of Returning Lists\n",
    "\n",
    "直接return一个list是我们熟悉的写法，这种写法最主要的问题在于，当数据量很大的时候会爆内存。\n",
    "\n",
    "针对这种情况，可以用generator来替代，解决内存问题。\n",
    "\n",
    "用yield实现的generator function, 被调用时\"does not actually run but instead immediately returns an iterator\".\n",
    "\n",
    "而每次调用next(iterator)时，\"the iterator advances the generator to its **next `yield` expression**\", 即执行到下一个yield语句前停止，并返回一次值。"
   ]
  },
  {
   "cell_type": "code",
   "execution_count": 3,
   "id": "early-macro",
   "metadata": {},
   "outputs": [
    {
     "name": "stdout",
     "output_type": "stream",
     "text": [
      "0\n",
      "5\n",
      "[0, 5, 11, 15, 21, 27]\n",
      "[0, 5, 11, 15, 21]\n"
     ]
    }
   ],
   "source": [
    "def index_words_iter(text):\n",
    "    if text:\n",
    "        yield 0\n",
    "    for index, letter in enumerate(text):\n",
    "        if letter == \" \":\n",
    "            yield index + 1\n",
    "\n",
    "address = 'Four score and seven years ago...'\n",
    "\n",
    "# 可以用next获取下一个值\n",
    "it = index_words_iter(address)\n",
    "print(next(it))\n",
    "print(next(it))\n",
    "\n",
    "# 可以将iterator强制转换成list\n",
    "it = index_words_iter(address)\n",
    "print(list(it))\n",
    "\n",
    "# 可以用islice切片\n",
    "import itertools\n",
    "it = index_words_iter(address)\n",
    "print(list(itertools.islice(it, 0, 5)))"
   ]
  },
  {
   "cell_type": "markdown",
   "id": "cardiovascular-robinson",
   "metadata": {},
   "source": [
    "### Be Defensive When Iterating Over Arguments\n",
    "\n",
    "书接上文x\n",
    "\n",
    "这里针对的主要是迭代的参数是iterator而不是container的情况\n",
    "\n",
    "因为iterator的默认实现只能遍历一次，exhausted之后就空了，而且不会报错。\n",
    "\n",
    "如果函数中有多轮遍历的情况，应该在开头检测是否是iterator, 如果是，就raise expcetion.\n",
    "\n",
    "另一方面，针对多轮遍历iterator的需求，可以重载__iter__，被调用时返回一个全新的generator, 就可以支持多轮遍历了，下面就是一个例子。\n",
    "\n",
    "- iterator: 实现__iter__和__next__\n",
    "- iterable: 实现__iter__和__getitem__, 如list"
   ]
  },
  {
   "cell_type": "code",
   "execution_count": 4,
   "id": "aquatic-incidence",
   "metadata": {},
   "outputs": [],
   "source": [
    "class MyNumbers:\n",
    "    '''\n",
    "    一个正常的iterator实现\n",
    "    __iter__中return self\n",
    "    __next__中遍历结束后raise StopIteration\n",
    "    '''\n",
    "    def __iter__(self):\n",
    "        self.a = 1\n",
    "        return self\n",
    "    def __next__(self):\n",
    "        if self.a <= 20:\n",
    "            x = self.a\n",
    "            self.a += 1\n",
    "            return x\n",
    "        else:\n",
    "            raise StopIteration\n",
    "\n",
    "class ReadVisits:\n",
    "    def __init__(self, data_path):\n",
    "        self.data_path = data_path\n",
    "    '''\n",
    "    这个例子中通过yield返回的generator自带了__next__\n",
    "    所以只需手动重载__iter__\n",
    "    '''\n",
    "    def __iter__(self):\n",
    "        print('call __iter__')\n",
    "        with open(self.data_path) as f:\n",
    "            for line in f:\n",
    "                yield int(line)\n",
    "\n",
    "def normalize(numbers):\n",
    "    total = sum(numbers) # 第一次调用__iter__\n",
    "    result = []\n",
    "    for value in numbers: # 第二次调用__iter__\n",
    "        percent = 100 * value / total\n",
    "        result.append(percent)\n",
    "    return result"
   ]
  },
  {
   "cell_type": "markdown",
   "id": "basic-drove",
   "metadata": {},
   "source": [
    "### Consider Generator Expressions for Larget List Comprehensions\n",
    "\n",
    "在基本的generator和列表解析基础上， python还支持generate expression\n",
    "\n",
    "\"putting list-comprehension-like syntax between `()` characters\" to create a generator expression"
   ]
  },
  {
   "cell_type": "code",
   "execution_count": 5,
   "id": "heated-feelings",
   "metadata": {},
   "outputs": [
    {
     "name": "stdout",
     "output_type": "stream",
     "text": [
      "<generator object <genexpr> at 0x7ff9f47c7120>\n",
      "(1, 1.0)\n"
     ]
    }
   ],
   "source": [
    "somelist = list(range(1, 5))\n",
    "it = (x for x in somelist) # generator expression\n",
    "print(it)\n",
    "\n",
    "roots = ((x, x**0.5) for x in it)# generate expression可以进一步组合\n",
    "print(next(roots))"
   ]
  },
  {
   "cell_type": "markdown",
   "id": "global-cloud",
   "metadata": {},
   "source": [
    "### Compose Multiple Generators with `yield from`\n",
    "\n",
    "\n",
    "yield from是用来处理下例所示的情况。\n",
    "\n",
    "除了简洁性，yield from也有明显的速度提升。"
   ]
  },
  {
   "cell_type": "code",
   "execution_count": 6,
   "id": "sapphire-consideration",
   "metadata": {},
   "outputs": [
    {
     "name": "stdout",
     "output_type": "stream",
     "text": [
      "baseline =  4.457575645297766\n",
      "composed =  4.280537655577064\n",
      "reduction = 4.0%\n"
     ]
    }
   ],
   "source": [
    "import timeit\n",
    "\n",
    "'''\n",
    "timeit是一个用来测试code snippet执行时间的library\n",
    "有几个常用函数\n",
    "timeit.timeit(stmt, setup, timer, number)\n",
    "timeit.repeat(stmt, setup, timer, repeat, number)\n",
    "\n",
    "stmt: 要测试的代码\n",
    "setup: This will have setup details that need to be executed before stmt. The default value is \"pass.\"\n",
    "timer: This will have the timer value, timeit() already has a default value set, and we can ignore it.\n",
    "number: 要执行的次数，default是1e6\n",
    "repeat: 重复执行timeit的次数\n",
    "'''\n",
    "\n",
    "def func():\n",
    "    for i in range(50):\n",
    "        yield i\n",
    "\n",
    "def slow():\n",
    "    for i in func():\n",
    "        yield i\n",
    "        \n",
    "def fast():\n",
    "    yield from func()\n",
    "\n",
    "baseline = timeit.timeit(\n",
    "    stmt='for _ in slow(): pass',\n",
    "    globals=globals(),\n",
    "    number=int(1e6))\n",
    "\n",
    "comparsion = timeit.timeit(\n",
    "    stmt='for _ in fast(): pass',\n",
    "    globals=globals(),\n",
    "    number=int(1e6))\n",
    "\n",
    "print('baseline = ', baseline)\n",
    "print('composed = ', comparsion)\n",
    "print(f'reduction = {((baseline - comparsion) / baseline):.1%}')"
   ]
  },
  {
   "cell_type": "markdown",
   "id": "affecting-match",
   "metadata": {},
   "source": [
    "### Avoid Injecting Data into Generators with `send`\n",
    "\n",
    "### Avoid Causing State Transitions in Generators with `throw`\n",
    "\n",
    "(感觉暂时用不到generator的send, throw, 先跳过"
   ]
  },
  {
   "cell_type": "markdown",
   "id": "impressive-rebate",
   "metadata": {},
   "source": [
    "### Consider `itertools` for Working with Iterators and Generators\n",
    "\n",
    "itertools确实好东西！\n",
    "\n",
    "函数可大致分为三种\n",
    "\n",
    "- linking iterators together\n",
    "- filtering items from an iterator\n",
    "- producing combinations of items from iterators\n",
    "\n",
    "可用help(itertools)查看帮助\n",
    "\n",
    "现用现查吧("
   ]
  },
  {
   "cell_type": "code",
   "execution_count": 7,
   "id": "expired-theta",
   "metadata": {},
   "outputs": [
    {
     "name": "stdout",
     "output_type": "stream",
     "text": [
      "[['a', 'b'], ['c', 'd']]\n",
      "['hello', 'hello', 'hello']\n",
      "[1, 2, 1, 2, 1, 2, 1, 2, 1, 2]\n"
     ]
    }
   ],
   "source": [
    "import itertools\n",
    "\n",
    "'''\n",
    "chain:\n",
    "数字倒是可以直接用numpy reshape从而flatten\n",
    "但对于其他类型（比如最常见的字符串)就没有办法了\n",
    "而chain是永远的神\n",
    "'''\n",
    "somelist = [['a','b'], ['c', 'd']]\n",
    "it = itertools.chain(somelist)\n",
    "print(list(it))\n",
    "\n",
    "'''\n",
    "repeat: 重复\n",
    "'''\n",
    "it = itertools.repeat('hello', 3)\n",
    "print(list(it))\n",
    "\n",
    "'''\n",
    "cycle: repeat an **iterator's items**\n",
    "即不会保留原始的嵌套\n",
    "'''\n",
    "it = itertools.cycle([1, 2])\n",
    "result = [next(it) for _ in range(10)]\n",
    "print(result)"
   ]
  }
 ],
 "metadata": {
  "kernelspec": {
   "display_name": "Python 3",
   "language": "python",
   "name": "python3"
  },
  "language_info": {
   "codemirror_mode": {
    "name": "ipython",
    "version": 3
   },
   "file_extension": ".py",
   "mimetype": "text/x-python",
   "name": "python",
   "nbconvert_exporter": "python",
   "pygments_lexer": "ipython3",
   "version": "3.8.0"
  }
 },
 "nbformat": 4,
 "nbformat_minor": 5
}
