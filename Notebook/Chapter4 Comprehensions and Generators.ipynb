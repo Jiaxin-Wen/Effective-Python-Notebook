{
 "cells": [
  {
   "cell_type": "markdown",
   "id": "straight-anchor",
   "metadata": {},
   "source": [
    "## Comprehensions and Generators\n",
    "\n",
    "### Avoid More Than Two Control Subexpressions in Comprehensions\n",
    "\n",
    "列表解析是我们很常用的feature，它支持multiple levels的循环嵌套, multiple conditions per loop level的约束逻辑组合，如下例所示。\n",
    "\n",
    "当超过两层循环，或condition超过两个的时候，应该用普通的for循环替代，增强可读性。"
   ]
  },
  {
   "cell_type": "code",
   "execution_count": 1,
   "id": "composed-ghost",
   "metadata": {},
   "outputs": [
    {
     "name": "stdout",
     "output_type": "stream",
     "text": [
      "[3, 4]\n"
     ]
    }
   ],
   "source": [
    "matrix = [[1, 2, 3], [4, 5, 6], [7, 8, 9]]\n",
    "flat = [x for row in matrix for x in row if x > 2 and x <5] # 两层\n",
    "print(flat)"
   ]
  },
  {
   "cell_type": "markdown",
   "id": "balanced-conditions",
   "metadata": {},
   "source": [
    "### Avoid Repeated Work in Comprehensions by Using Assignment Expressions\n",
    "\n",
    "列表解析中的条件判断常常会引入重复的code, 正如前面提到的，可以通过python 3.8引入的`walrus operator :=`来解决"
   ]
  },
  {
   "cell_type": "code",
   "execution_count": 4,
   "id": "connected-algebra",
   "metadata": {},
   "outputs": [
    {
     "name": "stdout",
     "output_type": "stream",
     "text": [
      "[15, 4, 1, 3]\n",
      "[15, 4, 1, 3]\n"
     ]
    }
   ],
   "source": [
    "def get_batch(count, size):\n",
    "    return count // size\n",
    "\n",
    "somelist = [125, 35, 8, 24]\n",
    "\n",
    "# repeat\n",
    "result = [get_batch(i, 8) for i in somelist if get_batch(i, 8)]\n",
    "print(result)\n",
    "\n",
    "# solution\n",
    "result = [batch for i in somelist if (batch := get_batch(i, 8))]\n",
    "print(result)"
   ]
  },
  {
   "cell_type": "markdown",
   "id": "ideal-flash",
   "metadata": {},
   "source": [
    "### Consider Generators Instead of Returning Lists\n",
    "\n",
    "直接return一个list是我们熟悉的写法，这种写法最主要的问题在于，当数据量很大的时候会爆内存。\n",
    "\n",
    "针对这种情况，可以用generator来替代，解决内存问题。\n",
    "\n",
    "用yield实现的generator function, 被调用时\"does not actually run but instead immediately returns an iterator\".\n",
    "\n",
    "而每次调用next(iterator)时，\"the iterator advances the generator to its **next `yield` expression**\", 即执行到下一个yield语句前停止，并返回一次值。"
   ]
  },
  {
   "cell_type": "code",
   "execution_count": 11,
   "id": "russian-saskatchewan",
   "metadata": {},
   "outputs": [
    {
     "name": "stdout",
     "output_type": "stream",
     "text": [
      "0\n",
      "5\n",
      "[0, 5, 11, 15, 21, 27]\n",
      "[0, 5, 11, 15, 21]\n"
     ]
    }
   ],
   "source": [
    "def index_words_iter(text):\n",
    "    if text:\n",
    "        yield 0\n",
    "    for index, letter in enumerate(text):\n",
    "        if letter == \" \":\n",
    "            yield index + 1\n",
    "\n",
    "address = 'Four score and seven years ago...'\n",
    "\n",
    "# 可以用next获取下一个值\n",
    "it = index_words_iter(address)\n",
    "print(next(it))\n",
    "print(next(it))\n",
    "\n",
    "# 可以将iterator强制转换成list\n",
    "it = index_words_iter(address)\n",
    "print(list(it))\n",
    "\n",
    "# 可以用islice切片\n",
    "import itertools\n",
    "it = index_words_iter(address)\n",
    "print(list(itertools.islice(it, 0, 5)))"
   ]
  },
  {
   "cell_type": "markdown",
   "id": "important-indonesia",
   "metadata": {},
   "source": [
    "### Be Defensive When Iterating Over Arguments\n",
    "\n",
    "书接上文x\n",
    "\n",
    "这里针对的主要是迭代的参数是iterator而不是container的情况\n",
    "\n",
    "因为iterator的默认实现只能遍历一次，exhausted之后就空了，而且不会报错。\n",
    "\n",
    "如果函数中有多轮遍历的情况，应该在开头检测是否是iterator, 如果是，就raise expcetion.\n",
    "\n",
    "另一方面，针对多轮遍历iterator的需求，可以重载__iter__，被调用时返回一个全新的generator, 就可以支持多轮遍历了，下面就是一个例子。\n",
    "\n",
    "- iterator: 实现__iter__和__next__\n",
    "- iterable: 实现__iter__和__getitem__, 如list"
   ]
  },
  {
   "cell_type": "code",
   "execution_count": null,
   "id": "contained-ladder",
   "metadata": {},
   "outputs": [],
   "source": [
    "class MyNumbers:\n",
    "    '''\n",
    "    一个正常的iterator实现\n",
    "    __iter__中return self\n",
    "    __next__中遍历结束后raise StopIteration\n",
    "    '''\n",
    "    def __iter__(self):\n",
    "        self.a = 1\n",
    "        return self\n",
    "    def __next__(self):\n",
    "        if self.a <= 20:\n",
    "            x = self.a\n",
    "            self.a += 1\n",
    "            return x\n",
    "        else:\n",
    "            raise StopIteration\n",
    "\n",
    "class ReadVisits:\n",
    "    def __init__(self, data_path):\n",
    "        self.data_path = data_path\n",
    "    '''\n",
    "    这个例子中通过yield返回的generator自带了__next__\n",
    "    所以只需手动重载__iter__\n",
    "    '''\n",
    "    def __iter__(self):\n",
    "        print('call __iter__')\n",
    "        with open(self.data_path) as f:\n",
    "            for line in f:\n",
    "                yield int(line)\n",
    "\n",
    "def normalize(numbers):\n",
    "    total = sum(numbers) # 第一次调用__iter__\n",
    "    result = []\n",
    "    for value in numbers: # 第二次调用__iter__\n",
    "        percent = 100 * value / total\n",
    "        result.append(percent)\n",
    "    return result"
   ]
  }
 ],
 "metadata": {
  "kernelspec": {
   "display_name": "Python 3",
   "language": "python",
   "name": "python3"
  },
  "language_info": {
   "codemirror_mode": {
    "name": "ipython",
    "version": 3
   },
   "file_extension": ".py",
   "mimetype": "text/x-python",
   "name": "python",
   "nbconvert_exporter": "python",
   "pygments_lexer": "ipython3",
   "version": "3.8.0"
  }
 },
 "nbformat": 4,
 "nbformat_minor": 5
}
