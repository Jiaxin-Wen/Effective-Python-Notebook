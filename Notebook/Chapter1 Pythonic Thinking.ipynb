{
 "cells": [
  {
   "cell_type": "markdown",
   "metadata": {},
   "source": [
    "## Pythonic Thinkinking"
   ]
  },
  {
   "cell_type": "markdown",
   "metadata": {},
   "source": [
    "### PEP 8 Style Guide\n",
    "\n",
    "讲了pep8的一些规范，pylint就可以check，改着改着就习惯了x"
   ]
  },
  {
   "cell_type": "markdown",
   "metadata": {},
   "source": [
    "### Format Strings\n",
    "\n",
    "分析了python提供的格式化字符串写法, 个人觉得最好用的还是3.6开始支持的F-strings"
   ]
  },
  {
   "cell_type": "code",
   "execution_count": 10,
   "metadata": {},
   "outputs": [
    {
     "name": "stdout",
     "output_type": "stream",
     "text": [
      "gpa : 3.56\n",
      "gpa : 3.56\n"
     ]
    }
   ],
   "source": [
    "key, value = 'gpa', 3.5632\n",
    "print(f'{key} : {value:.2f}')\n",
    "print('{} : {:.2f}'.format(key, value))"
   ]
  },
  {
   "cell_type": "markdown",
   "metadata": {},
   "source": [
    "### Write Helper Functions Instead of Complex Expressions\n",
    "\n",
    "“Python’s syntax makes it easy to write single-line expressions that are overly complicated and difficult to read”\n",
    "\n",
    "不要过分压缩行数, 保证可读性。\n",
    "（但我觉得if else写在一行还是挺好的。。"
   ]
  },
  {
   "cell_type": "code",
   "execution_count": 16,
   "metadata": {},
   "outputs": [
    {
     "name": "stdout",
     "output_type": "stream",
     "text": [
      "empty\n"
     ]
    }
   ],
   "source": [
    "test_str = ''\n",
    "result = 'valid' if test_str else 'empty'\n",
    "print(result)"
   ]
  },
  {
   "cell_type": "markdown",
   "metadata": {},
   "source": [
    "### 避免使用index，增强可读性\n",
    "\n",
    "#### Prefer Multiple Assignment Unpacking Over Indexing\n",
    "\n",
    "\n",
    "用unpacking拆开list, tuple,避免使用explicitly index， 可读性会更强。\n",
    "处理函数返回值，或是在循环中常常使用"
   ]
  },
  {
   "cell_type": "code",
   "execution_count": 19,
   "metadata": {},
   "outputs": [
    {
     "name": "stdout",
     "output_type": "stream",
     "text": [
      "index : 0, name : Bob, age = 12\n",
      "index : 1, name : Alice, age = 13\n",
      "2 1\n"
     ]
    }
   ],
   "source": [
    "test_list = [['Bob','12'], ['Alice', '13']]\n",
    "for index, (name, age) in enumerate(test_list):\n",
    "    print(f'index : {index}, name : {name}, age = {age}')\n",
    "    \n",
    "a, b = 1, 2\n",
    "a, b = b, a # 也是一种unpacking. 具体实现就是引入一个temp tuple\n",
    "print(a, b)"
   ]
  },
  {
   "cell_type": "markdown",
   "metadata": {},
   "source": [
    "#### Prefer `enumerate` Over `range`\n",
    "\n",
    "enumerate(iterable, start=0)\n",
    "\n",
    "start: \n",
    "the index value from which the counter is to be started\n",
    "default value是0"
   ]
  },
  {
   "cell_type": "markdown",
   "metadata": {},
   "source": [
    "#### Use `zip` to Process Iterators in Parallel\n",
    "\n",
    "\n",
    "\n",
    "值得注意的是, \"It keeps yielding tuples until any one of the wrapped iterators is exhausted. Its output is as long as its shortest input.\"\n",
    "即默认会截断对齐到最短。\n",
    "\n",
    "另一种默认取最长的方法是zip_longest"
   ]
  },
  {
   "cell_type": "code",
   "execution_count": 20,
   "metadata": {
    "scrolled": true
   },
   "outputs": [
    {
     "name": "stdout",
     "output_type": "stream",
     "text": [
      "[('a', 0), ('b', 1), ('c', 2)]\n",
      "[('a', 0), ('b', 1), ('c', 2), ('d', None)]\n"
     ]
    }
   ],
   "source": [
    "import itertools\n",
    "names = ['a', 'b', 'c', 'd']\n",
    "cnts = range(3)\n",
    "shortest = [i for i in zip(names, cnts)]\n",
    "longest = [i for i in itertools.zip_longest(names, cnts)]\n",
    "print(shortest)\n",
    "print(longest)"
   ]
  },
  {
   "cell_type": "code",
   "execution_count": 21,
   "metadata": {},
   "outputs": [
    {
     "ename": "SyntaxError",
     "evalue": "invalid syntax (<ipython-input-21-e87e2884efe0>, line 1)",
     "output_type": "error",
     "traceback": [
      "\u001b[0;36m  File \u001b[0;32m\"<ipython-input-21-e87e2884efe0>\"\u001b[0;36m, line \u001b[0;32m1\u001b[0m\n\u001b[0;31m    if a := 0 :\u001b[0m\n\u001b[0m          ^\u001b[0m\n\u001b[0;31mSyntaxError\u001b[0m\u001b[0;31m:\u001b[0m invalid syntax\n"
     ]
    }
   ],
   "source": [
    "if a := 0 :\n",
    "    print(a)\n",
    "else:\n",
    "    print('test')"
   ]
  }
 ],
 "metadata": {
  "kernelspec": {
   "display_name": "Python 3",
   "language": "python",
   "name": "python3"
  },
  "language_info": {
   "codemirror_mode": {
    "name": "ipython",
    "version": 3
   },
   "file_extension": ".py",
   "mimetype": "text/x-python",
   "name": "python",
   "nbconvert_exporter": "python",
   "pygments_lexer": "ipython3",
   "version": "3.6.5"
  }
 },
 "nbformat": 4,
 "nbformat_minor": 2
}
