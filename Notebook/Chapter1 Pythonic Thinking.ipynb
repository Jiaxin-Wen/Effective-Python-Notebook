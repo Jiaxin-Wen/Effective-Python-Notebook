{
 "cells": [
  {
   "cell_type": "markdown",
   "metadata": {},
   "source": [
    "## Pythonic Thinkinking"
   ]
  },
  {
   "cell_type": "markdown",
   "metadata": {},
   "source": [
    "### PEP 8 Style Guide\n",
    "\n",
    "讲了pep8的一些规范，pylint就可以check，改着改着就习惯了x"
   ]
  },
  {
   "cell_type": "markdown",
   "metadata": {},
   "source": [
    "### Format Strings\n",
    "\n",
    "分析了python提供的格式化字符串写法, 个人觉得最好用的还是3.6开始支持的F-strings"
   ]
  },
  {
   "cell_type": "code",
   "execution_count": 10,
   "metadata": {},
   "outputs": [
    {
     "name": "stdout",
     "output_type": "stream",
     "text": [
      "gpa : 3.56\n",
      "gpa : 3.56\n"
     ]
    }
   ],
   "source": [
    "key, value = 'gpa', 3.5632\n",
    "print(f'{key} : {value:.2f}')\n",
    "print('{} : {:.2f}'.format(key, value))"
   ]
  },
  {
   "cell_type": "markdown",
   "metadata": {},
   "source": [
    "### Write Helper Functions Instead of Complex Expressions\n",
    "\n",
    "“Python’s syntax makes it easy to write single-line expressions that are overly complicated and difficult to read”\n",
    "\n",
    "不要过分压缩行数, 保证可读性。\n",
    "（但我觉得if else写在一行还是挺好的。。"
   ]
  },
  {
   "cell_type": "code",
   "execution_count": 16,
   "metadata": {},
   "outputs": [
    {
     "name": "stdout",
     "output_type": "stream",
     "text": [
      "empty\n"
     ]
    }
   ],
   "source": [
    "test_str = ''\n",
    "result = 'valid' if test_str else 'empty'\n",
    "print(result)"
   ]
  },
  {
   "cell_type": "markdown",
   "metadata": {},
   "source": [
    "### 避免使用index，增强可读性\n",
    "\n",
    "#### Prefer Multiple Assignment Unpacking Over Indexing\n",
    "\n",
    "\n",
    "用unpacking拆开list, tuple,避免使用explicitly index， 可读性会更强。\n",
    "\n",
    "处理函数返回值，或是在循环中常常使用"
   ]
  },
  {
   "cell_type": "code",
   "execution_count": 6,
   "metadata": {},
   "outputs": [
    {
     "name": "stdout",
     "output_type": "stream",
     "text": [
      "index : 0, name : Bob, age = 12\n",
      "index : 1, name : Alice, age = 13\n"
     ]
    }
   ],
   "source": [
    "test_list = [['Bob','12'], ['Alice', '13']]\n",
    "for index, (name, age) in enumerate(test_list):\n",
    "    print(f'index : {index}, name : {name}, age = {age}')"
   ]
  },
  {
   "cell_type": "code",
   "execution_count": 14,
   "metadata": {},
   "outputs": [
    {
     "name": "stdout",
     "output_type": "stream",
     "text": [
      "0 1 [2, 3, 4]\n",
      "0 4 [2, 3, 4]\n"
     ]
    },
    {
     "ename": "SyntaxError",
     "evalue": "two starred expressions in assignment (<ipython-input-14-c86b6a91dd0f>, line 8)",
     "output_type": "error",
     "traceback": [
      "\u001b[0;36m  File \u001b[0;32m\"<ipython-input-14-c86b6a91dd0f>\"\u001b[0;36m, line \u001b[0;32m8\u001b[0m\n\u001b[0;31m    first, *middle, *second_middle, last = [1, 2, 3, 4]\u001b[0m\n\u001b[0m    ^\u001b[0m\n\u001b[0;31mSyntaxError\u001b[0m\u001b[0;31m:\u001b[0m two starred expressions in assignment\n"
     ]
    }
   ],
   "source": [
    "somelist = list(range(5))\n",
    "a, b, *others = somelist # catch-all unpacking的写法\n",
    "print(a, b, others)\n",
    "a, *othres, b = somelist # starred expression的位置不固定，但只能出现一次, 结果会转为list类型\n",
    "print(a, b, others)\n",
    "\n",
    "somelist = list(range(3))\n",
    "a, b, _ = somelist # single-level\n",
    "print(a, b)"
   ]
  },
  {
   "cell_type": "markdown",
   "metadata": {},
   "source": [
    "#### Prefer `enumerate` Over `range`\n",
    "\n",
    "enumerate(iterable, start=0)\n",
    "\n",
    "start: \n",
    "the index value from which the counter is to be started\n",
    "default value是0"
   ]
  },
  {
   "cell_type": "markdown",
   "metadata": {},
   "source": [
    "#### Use `zip` to Process Iterators in Parallel\n",
    "\n",
    "\n",
    "\n",
    "值得注意的是, \"It keeps yielding tuples until any one of the wrapped iterators is exhausted. Its output is as long as its shortest input.\"\n",
    "\n",
    "即默认会截断对齐到最短。\n",
    "\n",
    "另一种默认取最长的方法是zip_longest"
   ]
  },
  {
   "cell_type": "code",
   "execution_count": 20,
   "metadata": {
    "scrolled": true
   },
   "outputs": [
    {
     "name": "stdout",
     "output_type": "stream",
     "text": [
      "[('a', 0), ('b', 1), ('c', 2)]\n",
      "[('a', 0), ('b', 1), ('c', 2), ('d', None)]\n"
     ]
    }
   ],
   "source": [
    "import itertools\n",
    "names = ['a', 'b', 'c', 'd']\n",
    "cnts = range(3)\n",
    "shortest = [i for i in zip(names, cnts)]\n",
    "longest = [i for i in itertools.zip_longest(names, cnts)]\n",
    "print(shortest)\n",
    "print(longest)"
   ]
  },
  {
   "cell_type": "markdown",
   "metadata": {},
   "source": [
    "### Prevent Repetition with Assignment Expressions\n",
    "\n",
    "主要是介绍3.8引入的新语法`walrus operator,:=`\n",
    "\n",
    "原本的赋值表达式`=`不允许出现在一些位置上（比如if的条件部分), 为此我们往往需要先赋值，再判断。\n",
    "\n",
    "`:=`就是为了避免这种重复"
   ]
  },
  {
   "cell_type": "code",
   "execution_count": 5,
   "metadata": {},
   "outputs": [
    {
     "name": "stdout",
     "output_type": "stream",
     "text": [
      "1\n"
     ]
    }
   ],
   "source": [
    "'''\n",
    "就可以避免掉这种写法\n",
    "a = 1\n",
    "if a:\n",
    "'''\n",
    "if a := 1: # a = 1是语法错误\n",
    "    print(a)\n",
    "else:\n",
    "    print('no')"
   ]
  }
 ],
 "metadata": {
  "kernelspec": {
   "display_name": "Python 3",
   "language": "python",
   "name": "python3"
  },
  "language_info": {
   "codemirror_mode": {
    "name": "ipython",
    "version": 3
   },
   "file_extension": ".py",
   "mimetype": "text/x-python",
   "name": "python",
   "nbconvert_exporter": "python",
   "pygments_lexer": "ipython3",
   "version": "3.8.0"
  }
 },
 "nbformat": 4,
 "nbformat_minor": 2
}
