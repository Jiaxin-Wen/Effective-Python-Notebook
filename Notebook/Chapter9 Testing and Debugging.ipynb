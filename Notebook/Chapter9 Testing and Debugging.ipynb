{
 "cells": [
  {
   "cell_type": "markdown",
   "id": "hindu-lewis",
   "metadata": {},
   "source": [
    "## Testing and Debugging\n",
    "\n",
    "python没有编译期的静态类型检查，runtime炸掉(尤其是运行了很长时间后运行到了一个syntax error炸掉)着实令人崩溃\n",
    "\n",
    "因此test对于python尤其重要。\n",
    "\n",
    "### Use repr Strings for Debugging Output\n",
    "\n",
    "str可能会有歧义，比如str(5)和str('5')\n",
    "\n",
    "str的目的是readable\n",
    "\n",
    "而repr的目的是clearly understandable, 没有歧义\n",
    "\n",
    "print会优先调用__str__, 即自定义class同时重载了`__str__`和`__repr__`的情况下，会调用`__str__`, 但可以通过`print(repr(object))`调用`__repr__`"
   ]
  },
  {
   "cell_type": "code",
   "execution_count": null,
   "id": "considerable-blade",
   "metadata": {},
   "outputs": [],
   "source": [
    "class Child():\n",
    "    def __init__(self, name0):\n",
    "        self.name = name \n",
    "        self._sex = sex\n",
    "        self.__weight = weight\n",
    "\n",
    "    def __str__(self):\n",
    "        return self.name\n",
    "\n",
    "    \n",
    "    def __repr__(self):\n",
    "        return 'call repr'\n",
    "\n",
    "child = Child('Bob')\n",
    "print(repr(child))\n",
    "print(child)\n"
   ]
  }
 ],
 "metadata": {
  "kernelspec": {
   "display_name": "Python 3",
   "language": "python",
   "name": "python3"
  },
  "language_info": {
   "codemirror_mode": {
    "name": "ipython",
    "version": 3
   },
   "file_extension": ".py",
   "mimetype": "text/x-python",
   "name": "python",
   "nbconvert_exporter": "python",
   "pygments_lexer": "ipython3",
   "version": "3.6.12"
  }
 },
 "nbformat": 4,
 "nbformat_minor": 5
}
