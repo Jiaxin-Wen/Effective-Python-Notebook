{
 "cells": [
  {
   "cell_type": "markdown",
   "id": "spiritual-kernel",
   "metadata": {},
   "source": [
    "## Metaclasses and Attributes\n",
    "\n",
    "metaclass基本用不到，我觉得了解一下`@property`, 在更新迭代中使用，就差不多了x\n",
    "\n",
    "### Use Plain Attributes Instead of Setter and Getter Methods\n",
    "\n",
    "比起setter和getter, python更建议直接访问, 或in-place的修改public attribute。\n",
    "\n",
    "如果修改操作\n",
    "- 需要封装（比如要判断）\n",
    "- 需要访问、修改的是非public变量\n",
    "\n",
    "就可以通过`@property`和`setter`来实现\n",
    "\n",
    "注意事项有两点\n",
    "\n",
    "- 不要在getter中赋值\n",
    "- 避免setter有其他side-affect，**比如对unrelated attribute的赋值**, 或是**复杂、耗时的操作**(应该用normal methods去实现)\n"
   ]
  },
  {
   "cell_type": "code",
   "execution_count": 8,
   "id": "royal-spotlight",
   "metadata": {},
   "outputs": [
    {
     "ename": "ValueError",
     "evalue": "must be >= 0, got-1",
     "output_type": "error",
     "traceback": [
      "\u001b[0;31m-----------------------------------\u001b[0m",
      "\u001b[0;31mValueError\u001b[0mTraceback (most recent call last)",
      "\u001b[0;32m<ipython-input-8-40e187e2deb6>\u001b[0m in \u001b[0;36m<module>\u001b[0;34m\u001b[0m\n\u001b[1;32m     25\u001b[0m \u001b[0mr\u001b[0m \u001b[0;34m=\u001b[0m \u001b[0mVoltageResistance\u001b[0m\u001b[0;34m(\u001b[0m\u001b[0;36m1e3\u001b[0m\u001b[0;34m)\u001b[0m\u001b[0;34m\u001b[0m\u001b[0;34m\u001b[0m\u001b[0m\n\u001b[1;32m     26\u001b[0m \u001b[0mr\u001b[0m\u001b[0;34m.\u001b[0m\u001b[0mvoltage\u001b[0m \u001b[0;34m=\u001b[0m \u001b[0;36m10\u001b[0m\u001b[0;34m\u001b[0m\u001b[0;34m\u001b[0m\u001b[0m\n\u001b[0;32m---> 27\u001b[0;31m \u001b[0mr\u001b[0m\u001b[0;34m.\u001b[0m\u001b[0mvoltage\u001b[0m \u001b[0;34m=\u001b[0m \u001b[0;34m-\u001b[0m\u001b[0;36m1\u001b[0m\u001b[0;34m\u001b[0m\u001b[0;34m\u001b[0m\u001b[0m\n\u001b[0m",
      "\u001b[0;32m<ipython-input-8-40e187e2deb6>\u001b[0m in \u001b[0;36mvoltage\u001b[0;34m(self, voltage)\u001b[0m\n\u001b[1;32m     19\u001b[0m         '''\n\u001b[1;32m     20\u001b[0m         \u001b[0;32mif\u001b[0m \u001b[0mvoltage\u001b[0m \u001b[0;34m<\u001b[0m \u001b[0;36m0\u001b[0m\u001b[0;34m:\u001b[0m\u001b[0;34m\u001b[0m\u001b[0;34m\u001b[0m\u001b[0m\n\u001b[0;32m---> 21\u001b[0;31m             \u001b[0;32mraise\u001b[0m \u001b[0mValueError\u001b[0m\u001b[0;34m(\u001b[0m\u001b[0;34mf'must be >= 0, got{voltage}'\u001b[0m\u001b[0;34m)\u001b[0m\u001b[0;34m\u001b[0m\u001b[0;34m\u001b[0m\u001b[0m\n\u001b[0m\u001b[1;32m     22\u001b[0m         \u001b[0mself\u001b[0m\u001b[0;34m.\u001b[0m\u001b[0m_voltage\u001b[0m \u001b[0;34m=\u001b[0m \u001b[0mvoltage\u001b[0m\u001b[0;34m\u001b[0m\u001b[0;34m\u001b[0m\u001b[0m\n\u001b[1;32m     23\u001b[0m \u001b[0;31m#         self.current = self._voltage / self.ohms # 最好不要有\u001b[0m\u001b[0;34m\u001b[0m\u001b[0;34m\u001b[0m\u001b[0;34m\u001b[0m\u001b[0m\n",
      "\u001b[0;31mValueError\u001b[0m: must be >= 0, got-1"
     ]
    }
   ],
   "source": [
    "class VoltageResistance:\n",
    "    def __init__(self, ohms):\n",
    "        self.ohms = ohms\n",
    "        self._voltage = 0\n",
    "        self.current = 0\n",
    "        \n",
    "    @property # getter\n",
    "    def voltage(self):\n",
    "        '''\n",
    "        getter中不应该有赋值\n",
    "        \"be sure that the behavior that you implement is not surprising\"\n",
    "        '''\n",
    "        return self._voltage\n",
    "    \n",
    "    @voltage.setter # setter\n",
    "    def voltage(self, voltage):\n",
    "        '''\n",
    "        setter中最好不要有对其他变量的赋值\n",
    "        '''\n",
    "        if voltage < 0:\n",
    "            raise ValueError(f'must be >= 0, got{voltage}')\n",
    "        self._voltage = voltage\n",
    "#         self.current = self._voltage / self.ohms # 最好不要有\n",
    "\n",
    "r = VoltageResistance(1e3)\n",
    "r.voltage = 10\n",
    "r.voltage = -1"
   ]
  },
  {
   "cell_type": "markdown",
   "id": "powerful-singapore",
   "metadata": {},
   "source": [
    "### Consider @property Instead of Refactoring Attributes\n",
    "\n",
    "property的好处在迭代更新的过程中也有明显的体现。\n",
    "\n",
    "例如，最初对于一个attribute的setter逻辑很简单，caller直接对object.attribute进行赋值。\n",
    "\n",
    "如果迭代过程中，赋值操作变得更加复杂(比如要增加判断), 我们当然想到实现一个setter函数，但这也意味着我们需要修改原来全部的调用语句。\n",
    "\n",
    "而property使得这个过程得以省略。\n",
    "\n",
    "\"Make incremental progress toward better data models by using `@property`\"\n",
    "\n",
    "但也要注意，当property过于频繁的使用时，应该考虑重构class"
   ]
  },
  {
   "cell_type": "markdown",
   "id": "czech-underwear",
   "metadata": {},
   "source": [
    "### Use Descriptors for Reusable `@property` Methods\n",
    "\n",
    "实现了`__get__`, `__set__`,`__delete__`中任何一个方法，就可以称为描述器(descriptor)。\n",
    "\n",
    "前面提到的@property, @classmethod, @staticmethod都是用描述器实现的.\n",
    "\n",
    "TODO：metaclass之后有需要的话再来填坑吧x\n",
    "\n",
    "### Use `__getattr__`, `__getattribute__`, `__setattr__` for Lazy Attributes\n",
    "\n",
    "### Validate Subclasses with `__init_subclass__`\n",
    "\n",
    "### Register Class Existence with `__init_subclass__`\n",
    "\n",
    "### Annotate Class Attributes with `__set_name__`\n",
    "\n",
    "### Prefer Class Decorators Over Metaclasses for Composable Class Extensions\n",
    "\n"
   ]
  }
 ],
 "metadata": {
  "kernelspec": {
   "display_name": "Python 3",
   "language": "python",
   "name": "python3"
  },
  "language_info": {
   "codemirror_mode": {
    "name": "ipython",
    "version": 3
   },
   "file_extension": ".py",
   "mimetype": "text/x-python",
   "name": "python",
   "nbconvert_exporter": "python",
   "pygments_lexer": "ipython3",
   "version": "3.6.12"
  }
 },
 "nbformat": 4,
 "nbformat_minor": 5
}
